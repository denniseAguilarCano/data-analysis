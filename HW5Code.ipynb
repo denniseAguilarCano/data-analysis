{
 "cells": [
  {
   "cell_type": "code",
   "execution_count": 1,
   "metadata": {},
   "outputs": [],
   "source": [
    "import numpy as np\n",
    "import matplotlib.pyplot as plt\n",
    "from scipy.fftpack import fft2, ifft2\n",
    "from scipy.integrate import odeint\n",
    "from scipy.sparse import spdiags\n",
    "from scipy.integrate import solve_ivp\n",
    "import time"
   ]
  },
  {
   "cell_type": "code",
   "execution_count": 2,
   "metadata": {},
   "outputs": [],
   "source": [
    "tspan = np.arange(0,4.5,0.5)\n",
    "nu = 0.001\n",
    "nx, ny = 64, 64\n",
    "Lx, Ly = 20, 20\n",
    "N = nx * ny\n",
    "x2 = np.linspace(-Lx/2, Lx/2, nx+1)\n",
    "x = x2[:nx]\n",
    "y2 = np.linspace(-Ly/2, Ly/2, ny+1)\n",
    "y = y2[:ny]\n",
    "X, Y = np.meshgrid(x, y)\n",
    "w0 = 1 * np.exp(-X**2 - Y**2/20) \n",
    "w2 = w0.flatten()\n",
    "kx = (2 * np.pi / Lx) * np.concatenate((np.arange(0, nx/2), np.arange(-nx/2, 0)))\n",
    "kx[0] = 1e-6\n",
    "ky = (2 * np.pi / Ly) * np.concatenate((np.arange(0, ny/2), np.arange(-ny/2, 0)))\n",
    "ky[0] = 1e-6\n",
    "KX, KY = np.meshgrid(kx, ky)\n",
    "K = KX**2 + KY**2\n",
    "m = 64\n",
    "n = m * m \n",
    "dx = 20/64\n",
    "e0 = np.zeros((n,1)); e1 = np.ones((n,1)); e2 = np.copy(e1); e4 = np.copy(e0) #Copy of vector of ones\n",
    "for j in range(1, m+1):\n",
    "    e2[m*j-1] = 0 #every m^th as zero\n",
    "    e4[m*j-1] = 1 #every m^th value as 1\n",
    "e3 = np.zeros_like(e2); e3[1:n] = e2[0:n-1]; e3[0] = e2[n-1]\n",
    "e5 = np.zeros_like(e4); e5[1:n] = e4[0:n-1]; e5[0] = e4[n-1]\n",
    "diagonals = [e1.flatten(), e1.flatten(), e5.flatten(),\n",
    "             e2.flatten(), -4*e1.flatten(), e3.flatten(),\n",
    "             e4.flatten(), e1.flatten(), e1.flatten()]\n",
    "offsets = [-(n-m), -m, -m+1, -1, 0, 1, m-1, m, (n-m)]\n",
    "matA = spdiags(diagonals, offsets, n, n).toarray()\n",
    "A = matA/(dx**2)\n",
    "A[0,0] = 2 / (dx**2)\n",
    "m = 64\n",
    "n = m * m\n",
    "e0 = np.zeros((n,1))\n",
    "e1 = np.ones((n,1))\n",
    "e2 = np.copy(e1)\n",
    "e2[1:n] = e1[0:n-1]\n",
    "e2[0] = e2[n-1]\n",
    "diagonals = [e2.flatten(), -e1.flatten(), e0.flatten(), e1.flatten(), -e2.flatten()]\n",
    "offsets = [-(n-m), -m, 0, m, (n-m)]\n",
    "np.shape(diagonals)\n",
    "matB = spdiags(diagonals, offsets ,n,n).toarray()\n",
    "B = matB/(dx*2)\n",
    "m =64\n",
    "n =  m * m\n",
    "e0 = np.zeros((n,1)); e1 = np.ones((n,1)); e2 = np.copy(e1)\n",
    "for j in range(1, m+1):\n",
    "    e0[m*j-1] = 1 #every m^th as zero\n",
    "    e1[m*j-1] = 0\n",
    "e3 = np.zeros_like(e0); e3[1:n] = e0[0:n-1]; e3[0] = e0[n-1]\n",
    "e4 = np.zeros_like(e1); e4[1:n] = e1[0:n-1]; e4[0] = e4[n-1]\n",
    "diagonals = [e3.flatten(), -e1.flatten(), e4.flatten(), -e0.flatten()]\n",
    "offsets = [-(m-1), -1, 1, (m-1)]\n",
    "np.shape(diagonals)\n",
    "matC = spdiags(diagonals, offsets ,n,n).toarray() / (2*dx)\n",
    "C = matC"
   ]
  },
  {
   "cell_type": "code",
   "execution_count": 14,
   "metadata": {},
   "outputs": [
    {
     "name": "stdout",
     "output_type": "stream",
     "text": [
      "FFT Elapsed time: 0.61 seconds\n"
     ]
    },
    {
     "data": {
      "text/plain": [
       "array([[2.50656748e-46, 3.59416114e-45, 1.89181856e-44, ...,\n",
       "        1.90731975e-42, 4.82357855e-42, 1.14878189e-41],\n",
       "       [1.17762859e-43, 6.53319073e-43, 2.62245765e-42, ...,\n",
       "        1.58919524e-40, 3.56490552e-40, 7.46983929e-40],\n",
       "       [4.55107657e-41, 1.92934361e-40, 6.43507373e-40, ...,\n",
       "        2.49615609e-38, 5.08470403e-38, 9.69547626e-38],\n",
       "       ...,\n",
       "       [1.96785570e-38, 1.23357409e-37, 5.47591944e-37, ...,\n",
       "        4.35301636e-35, 1.02350494e-34, 2.23002255e-34],\n",
       "       [6.19028421e-41, 5.33777602e-40, 2.93883953e-39, ...,\n",
       "        3.67929755e-37, 9.45766657e-37, 2.23852330e-36],\n",
       "       [1.60178709e-43, 1.99380943e-42, 1.41671738e-41, ...,\n",
       "        2.79951703e-39, 7.95938807e-39, 2.07769586e-38]])"
      ]
     },
     "execution_count": 14,
     "metadata": {},
     "output_type": "execute_result"
    }
   ],
   "source": [
    "# Define the ODE system\n",
    "start_time = time.time()\n",
    "def spc_rhs(t,w2):\n",
    "    w = w2.reshape((nx,ny))\n",
    "    wt = fft2(w)\n",
    "    psit = -wt / K\n",
    "    psi = np.real(ifft2(psit)).flatten()\n",
    "    rhs = nu*np.dot(w2,A) + np.dot(C,psi)*np.dot(B,w2) - np.dot(B,psi)*np.dot(C,w2)\n",
    "    return rhs\n",
    "\n",
    "w_sol = solve_ivp(spc_rhs,[tspan[0], tspan[-1]], w2, t_eval=tspan, method='RK45')\n",
    "A1 = w_sol.y\n",
    "end_time = time.time()  # Record the end time\n",
    "elapsed_time = end_time - start_time\n",
    "print(f\"FFT Elapsed time: {elapsed_time:.2f} seconds\")\n",
    "\n",
    "A1\n",
    "\n",
    "#fig, ax=plt.subplots()\n",
    "#fftplot = plt.color()\n",
    "#plt.pcolor(x, y, w2, shading='interp')"
   ]
  },
  {
   "cell_type": "code",
   "execution_count": 4,
   "metadata": {},
   "outputs": [
    {
     "name": "stdout",
     "output_type": "stream",
     "text": [
      "A Backslash B Elapsed time: 13.28 seconds\n"
     ]
    }
   ],
   "source": [
    "start_time = time.time()\n",
    "def back_rhs(t,w2):\n",
    "    psi = np.linalg.solve(A,w2).flatten()\n",
    "    rhs = nu*np.dot(w2,A) + np.dot(C,psi)*np.dot(B,w2) - np.dot(B,psi)*np.dot(C,w2)\n",
    "    return rhs.flatten()\n",
    "#w = w2.reshape((nx,ny))\n",
    "#np.linalg.solve(A,w2)\n",
    "B_sol = solve_ivp(back_rhs, [tspan[0], tspan[-1]], w2, t_eval=tspan, method='RK45')\n",
    "A2 = np.real(B_sol.y)\n",
    "end_time = time.time()  # Record the end time\n",
    "elapsed_time = end_time - start_time\n",
    "print(f\"A Backslash B Elapsed time: {elapsed_time:.2f} seconds\")\n",
    "    "
   ]
  },
  {
   "cell_type": "code",
   "execution_count": 5,
   "metadata": {},
   "outputs": [
    {
     "name": "stdout",
     "output_type": "stream",
     "text": [
      "LU Elapsed time: 21.32 seconds\n"
     ]
    }
   ],
   "source": [
    "from scipy.linalg import lu, solve_triangular\n",
    "start_time = time.time()\n",
    "def lu_rhs(t,w2):\n",
    "    P, L, U = lu(A)\n",
    "    Pb = np.dot(P, w2)\n",
    "    y = solve_triangular(L, Pb, lower=True)\n",
    "    psi = solve_triangular(U, y)\n",
    "    rhs = nu*np.dot(w2,A) + np.dot(C,psi)*np.dot(B,w2) - np.dot(B,psi)*np.dot(C,w2)\n",
    "    return rhs\n",
    "C_sol = solve_ivp(lu_rhs, [tspan[0], tspan[-1]], w2, t_eval=tspan, method='RK45')\n",
    "A3 = np.real(C_sol.y)\n",
    "end_time = time.time()  # Record the end time\n",
    "elapsed_time = end_time - start_time\n",
    "print(f\"LU Elapsed time: {elapsed_time:.2f} seconds\")\n",
    "    "
   ]
  },
  {
   "cell_type": "code",
   "execution_count": 8,
   "metadata": {},
   "outputs": [
    {
     "data": {
      "text/plain": [
       "array([[ 2.50656748e-46, -1.78630705e-36,  1.02614869e-36, ...,\n",
       "        -5.75086257e-26, -6.68013806e-25,  3.02201851e-24],\n",
       "       [ 1.17762859e-43, -2.26093387e-29,  1.85614646e-29, ...,\n",
       "        -1.48306461e-19, -7.82424220e-19,  1.67449651e-18],\n",
       "       [ 4.55107657e-41, -4.24661881e-29,  3.48720993e-29, ...,\n",
       "        -2.20165937e-20, -2.91637720e-19,  1.23961335e-18],\n",
       "       ...,\n",
       "       [ 1.96785570e-38,  7.20814729e-28, -6.58759786e-28, ...,\n",
       "         4.01674620e-20,  1.34371413e-19, -8.94163775e-19],\n",
       "       [ 6.19028421e-41,  1.69117621e-28, -1.49205998e-28, ...,\n",
       "         3.00460834e-20,  1.76009486e-19, -9.80736832e-19],\n",
       "       [ 1.60178709e-43,  5.05834665e-29, -4.38046443e-29, ...,\n",
       "         2.47633369e-20,  1.15181522e-20,  3.12761254e-20]])"
      ]
     },
     "execution_count": 8,
     "metadata": {},
     "output_type": "execute_result"
    }
   ],
   "source": [
    "A3"
   ]
  },
  {
   "cell_type": "code",
   "execution_count": 11,
   "metadata": {},
   "outputs": [
    {
     "name": "stderr",
     "output_type": "stream",
     "text": [
      "/var/folders/kw/6smh7_210hl2r74h8n87zx_m0000gn/T/ipykernel_54557/3146191653.py:4: DeprecationWarning: 'scipy.sparse.linalg.bicgstab' keyword argument `tol` is deprecated in favor of `rtol` and will be removed in SciPy v1.14.0. Until then, if set, it will override `rtol`.\n",
      "  psi,info = bicgstab(A, w2, tol=1e-6)\n"
     ]
    },
    {
     "name": "stdout",
     "output_type": "stream",
     "text": [
      "Bicgstab Elapsed time: 56.64 seconds\n"
     ]
    }
   ],
   "source": [
    "from scipy.sparse.linalg import bicgstab, gmres\n",
    "start_time = time.time()\n",
    "def bstab(t,w2):\n",
    "    psi,info = bicgstab(A, w2, tol=1e-6)\n",
    "    rhs = nu*np.dot(w2,A) + np.dot(C,psi)*np.dot(B,w2) - np.dot(B, psi)*np.dot(C,w2)\n",
    "    return rhs.flatten()\n",
    "D_sol = solve_ivp(bstab, [tspan[0], tspan[-1]], w2, t_eval=tspan, method='RK45')\n",
    "bstab_sol = D_sol.y\n",
    "end_time = time.time()  # Record the end time\n",
    "elapsed_time = end_time - start_time\n",
    "print(f\"Bicgstab Elapsed time: {elapsed_time:.2f} seconds\")"
   ]
  },
  {
   "cell_type": "code",
   "execution_count": 12,
   "metadata": {},
   "outputs": [
    {
     "data": {
      "text/plain": [
       "array([[ 2.50656748e-46, -1.78634735e-36,  1.02617482e-36, ...,\n",
       "        -5.74895143e-26, -6.68020232e-25,  3.02199464e-24],\n",
       "       [ 1.17762859e-43, -2.26092808e-29,  1.85614346e-29, ...,\n",
       "        -1.48258274e-19, -7.82453346e-19,  1.67446810e-18],\n",
       "       [ 4.55107657e-41, -4.24660036e-29,  3.48719840e-29, ...,\n",
       "        -2.20093310e-20, -2.91637366e-19,  1.23958645e-18],\n",
       "       ...,\n",
       "       [ 1.96785570e-38,  7.20812190e-28, -6.58757845e-28, ...,\n",
       "         4.01544265e-20,  1.34382881e-19, -8.94154743e-19],\n",
       "       [ 6.19028421e-41,  1.69116929e-28, -1.49205504e-28, ...,\n",
       "         3.00362800e-20,  1.76016036e-19, -9.80721870e-19],\n",
       "       [ 1.60178709e-43,  5.05832695e-29, -4.38045151e-29, ...,\n",
       "         2.47553537e-20,  1.15274640e-20,  3.12711812e-20]])"
      ]
     },
     "execution_count": 12,
     "metadata": {},
     "output_type": "execute_result"
    }
   ],
   "source": [
    "bstab_sol"
   ]
  },
  {
   "cell_type": "code",
   "execution_count": 9,
   "metadata": {},
   "outputs": [
    {
     "name": "stderr",
     "output_type": "stream",
     "text": [
      "/var/folders/kw/6smh7_210hl2r74h8n87zx_m0000gn/T/ipykernel_54557/436517904.py:3: DeprecationWarning: 'scipy.sparse.linalg.gmres' keyword argument `tol` is deprecated in favor of `rtol` and will be removed in SciPy v1.14.0. Until then, if set, it will override `rtol`.\n",
      "  psi,info = gmres(A, w2, tol=1e-6)\n"
     ]
    },
    {
     "name": "stdout",
     "output_type": "stream",
     "text": [
      "Gmres Elapsed time: 561.70 seconds\n"
     ]
    }
   ],
   "source": [
    "start_time = time.time()\n",
    "def gres(t,w2):\n",
    "    psi,info = gmres(A, w2, tol=1e-6)\n",
    "    rhs = nu*np.dot(w2,A) + np.dot(C,psi)*np.dot(B,w2) - np.dot(B, psi)*np.dot(C,w2)\n",
    "    return rhs\n",
    "D_sol = solve_ivp(gres, [tspan[0], tspan[-1]], w2, t_eval=tspan, method='RK45')\n",
    "end_time = time.time()  # Record the end time\n",
    "elapsed_time = end_time - start_time\n",
    "print(f\"Gmres Elapsed time: {elapsed_time:.2f} seconds\")"
   ]
  },
  {
   "cell_type": "code",
   "execution_count": 10,
   "metadata": {},
   "outputs": [
    {
     "data": {
      "text/plain": [
       "array([[ 2.50656748e-46, -1.78625063e-36,  1.02611761e-36, ...,\n",
       "        -5.75011599e-26, -6.67970609e-25,  3.02183221e-24],\n",
       "       [ 1.17762859e-43, -2.26083397e-29,  1.85606084e-29, ...,\n",
       "        -1.48288603e-19, -7.82376205e-19,  1.67439869e-18],\n",
       "       [ 4.55107657e-41, -4.24645332e-29,  3.48706727e-29, ...,\n",
       "        -2.20136961e-20, -2.91617811e-19,  1.23952604e-18],\n",
       "       ...,\n",
       "       [ 1.96785570e-38,  7.20794430e-28, -6.58740196e-28, ...,\n",
       "         4.01628800e-20,  1.34366020e-19, -8.94117600e-19],\n",
       "       [ 6.19028421e-41,  1.69112348e-28, -1.49201092e-28, ...,\n",
       "         3.00425820e-20,  1.76000182e-19, -9.80678385e-19],\n",
       "       [ 1.60178709e-43,  5.05816792e-29, -4.38030123e-29, ...,\n",
       "         2.47611218e-20,  1.15232327e-20,  3.12608904e-20]])"
      ]
     },
     "execution_count": 10,
     "metadata": {},
     "output_type": "execute_result"
    }
   ],
   "source": [
    "gres_sol = D_sol.y\n",
    "gres_sol"
   ]
  },
  {
   "cell_type": "code",
   "execution_count": null,
   "metadata": {},
   "outputs": [],
   "source": []
  }
 ],
 "metadata": {
  "kernelspec": {
   "display_name": "myenv",
   "language": "python",
   "name": "python3"
  },
  "language_info": {
   "codemirror_mode": {
    "name": "ipython",
    "version": 3
   },
   "file_extension": ".py",
   "mimetype": "text/x-python",
   "name": "python",
   "nbconvert_exporter": "python",
   "pygments_lexer": "ipython3",
   "version": "3.10.13"
  }
 },
 "nbformat": 4,
 "nbformat_minor": 2
}
