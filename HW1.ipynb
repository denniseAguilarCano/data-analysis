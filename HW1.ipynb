{
 "cells": [
  {
   "cell_type": "code",
   "execution_count": 12,
   "metadata": {},
   "outputs": [
    {
     "name": "stdout",
     "output_type": "stream",
     "text": [
      "-0.57078961788788\n",
      "-0.57078962246829\n",
      "-6.016180886803113e-09\n",
      "[-1.6         3.19799514  2.46440244  1.2035359   0.65020146 -0.11692334\n",
      " -0.66052349 -0.52192654 -0.56655274 -0.57074658 -0.57078962 -0.57078962]\n",
      "-0.57078962246829\n",
      "-0.57078961788788\n"
     ]
    }
   ],
   "source": [
    "import numpy as np\n",
    "x = np.array([-1.6])\n",
    "\n",
    "for j in range(1000):\n",
    "    x = np.append(\n",
    "        x, x[j] - (x[j]*np.sin(3*x[j]) - np.exp(x[j]))\n",
    "        / (np.sin(3*x[j]) + 3*x[j]*np.cos(3*x[j]) - np.exp(x[j])))\n",
    "    fc = x[j]*np.sin(3*x[j]) - np.exp(x[j])\n",
    "    if abs(fc) < 1e-6:\n",
    "        break\n",
    "xt = np.append(x, x[j+1])\n",
    "print(x[-2])\n",
    "print(x[j + 1])\n",
    "print(fc) \n",
    "print (x)\n",
    "A1 = x\n",
    "print(A1[-1])\n",
    "print(A1[-2])\n",
    "\n"
   ]
  },
  {
   "cell_type": "code",
   "execution_count": 14,
   "metadata": {},
   "outputs": [
    {
     "data": {
      "text/plain": [
       "-0.5707893371582031"
      ]
     },
     "metadata": {},
     "output_type": "display_data"
    },
    {
     "data": {
      "text/plain": [
       "16"
      ]
     },
     "metadata": {},
     "output_type": "display_data"
    },
    {
     "data": {
      "text/plain": [
       "[-0.55,\n",
       " -0.625,\n",
       " -0.5875,\n",
       " -0.5687500000000001,\n",
       " -0.578125,\n",
       " -0.5734375,\n",
       " -0.5710937500000001,\n",
       " -0.5699218750000001,\n",
       " -0.5705078125,\n",
       " -0.57080078125,\n",
       " -0.570654296875,\n",
       " -0.5707275390625,\n",
       " -0.57076416015625,\n",
       " -0.570782470703125,\n",
       " -0.5707916259765625,\n",
       " -0.5707870483398438,\n",
       " -0.5707893371582031]"
      ]
     },
     "metadata": {},
     "output_type": "display_data"
    }
   ],
   "source": [
    "xr = -0.4; xl = -0.7\n",
    "A2 = []\n",
    "for k in range(0, 100):\n",
    "    xc = (xr + xl)/2\n",
    "    A2.append(xc)\n",
    "    fc = xc*np.sin(3*xc) - np.exp(xc)\n",
    "    if ( fc > 0 ):\n",
    "        xl = xc\n",
    "    else:\n",
    "        xr = xc\n",
    "    if ( abs(fc) < 1e-6 ):\n",
    "        display(xc); display(k); display(A2)\n",
    "        break\n",
    "A3 = np.array([j+1, k+1])\n"
   ]
  },
  {
   "cell_type": "code",
   "execution_count": 8,
   "metadata": {},
   "outputs": [],
   "source": [
    "A = np.array([[1, 2],\n",
    "              [-1, 1]])\n",
    "B = np.array([[2,0],\n",
    "              [0,2]])\n",
    "C = np.array([[2, 0, -3],\n",
    "              [0, 0, -1]])\n",
    "D = np.array([[1, 2],\n",
    "              [2, 3],\n",
    "              [-1, 0]])\n",
    "x = np.array([[1],[0]])\n",
    "y = np.array([[0],[1]])\n",
    "z = np.array([[1], [2], [-1]])\n",
    "\n",
    "A4 = A + B\n",
    "A5t = 3*x - 4*y\n",
    "A5 = A5t.flatten()\n",
    "A6t = np.dot(A,x)\n",
    "A6 = A6t.flatten()\n",
    "A7t = np.dot(B,(x-y))\n",
    "A7 = A7t.flatten()\n",
    "A8t = np.dot(D,x)\n",
    "A8 = A8t.flatten()\n",
    "A9t = np.dot(D, y) + z\n",
    "A9 = A9t.flatten()\n",
    "A10 = np.dot(A,B)\n",
    "A11 = np.dot(B,C)\n",
    "A12 = np.dot(C,D)\n"
   ]
  }
 ],
 "metadata": {
  "kernelspec": {
   "display_name": "myenv",
   "language": "python",
   "name": "python3"
  },
  "language_info": {
   "codemirror_mode": {
    "name": "ipython",
    "version": 3
   },
   "file_extension": ".py",
   "mimetype": "text/x-python",
   "name": "python",
   "nbconvert_exporter": "python",
   "pygments_lexer": "ipython3",
   "version": "3.10.13"
  }
 },
 "nbformat": 4,
 "nbformat_minor": 2
}
