{
 "cells": [
  {
   "cell_type": "code",
   "execution_count": 1,
   "metadata": {},
   "outputs": [],
   "source": [
    "import numpy as np\n",
    "import torch\n",
    "from torch import nn\n",
    "import tqdm\n",
    "import torchvision\n",
    "import torch.optim as optim\n",
    "from sklearn.model_selection import GridSearchCV\n",
    "from sklearn.base import BaseEstimator, ClassifierMixin\n",
    "import matplotlib.pyplot as plt\n",
    "from torch.utils.data import DataLoader, Subset\n",
    "from sklearn.model_selection import train_test_split\n",
    "from sklearn.base import BaseEstimator, ClassifierMixin"
   ]
  },
  {
   "cell_type": "code",
   "execution_count": 2,
   "metadata": {},
   "outputs": [
    {
     "name": "stdout",
     "output_type": "stream",
     "text": [
      "106\n",
      "12\n",
      "40\n"
     ]
    }
   ],
   "source": [
    "# Use the following code to load and normalize the dataset for training and testing\n",
    "# It will downlad the dataset into data subfolder (change to your data folder name)\n",
    "train_dataset = torchvision.datasets.FashionMNIST('data/', train=True, download=True,\n",
    "                             transform=torchvision.transforms.Compose([\n",
    "                               torchvision.transforms.ToTensor(),\n",
    "                               torchvision.transforms.Normalize(\n",
    "                                 (0.1307,), (0.3081,))\n",
    "                             ]))\n",
    "\n",
    "test_dataset = torchvision.datasets.FashionMNIST('data/', train=False, download=True,\n",
    "                             transform=torchvision.transforms.Compose([\n",
    "                               torchvision.transforms.ToTensor(),\n",
    "                               torchvision.transforms.Normalize(\n",
    "                                 (0.1307,), (0.3081,))\n",
    "                             ]))\n",
    "\n",
    "\n",
    "# Use the following code to create a validation set of 10%\n",
    "train_indices, val_indices, _, _ = train_test_split(\n",
    "    range(len(train_dataset)),\n",
    "    train_dataset.targets,\n",
    "    stratify=train_dataset.targets,\n",
    "    test_size=0.1,\n",
    ")\n",
    "\n",
    "# Generate training and validation subsets based on indices\n",
    "train_split = Subset(train_dataset, train_indices)\n",
    "val_split = Subset(train_dataset, val_indices)\n",
    "\n",
    "\n",
    "# set batches sizes\n",
    "train_batch_size = 512 #Define train batch size\n",
    "test_batch_size  = 256 #Define test batch size (can be larger than train batch size)\n",
    "\n",
    "\n",
    "# Define dataloader objects that help to iterate over batches and samples for\n",
    "# training, validation and testing\n",
    "train_batches = DataLoader(train_split, batch_size=train_batch_size, shuffle=True)\n",
    "val_batches = DataLoader(val_split, batch_size=train_batch_size, shuffle=True)\n",
    "test_batches = DataLoader(test_dataset, batch_size=test_batch_size, shuffle=True)\n",
    "                                           \n",
    "num_train_batches=len(train_batches)\n",
    "num_val_batches=len(val_batches)\n",
    "num_test_batches=len(test_batches)\n",
    "\n",
    "\n",
    "print(num_train_batches)\n",
    "print(num_val_batches)\n",
    "print(num_test_batches)"
   ]
  },
  {
   "cell_type": "code",
   "execution_count": 3,
   "metadata": {},
   "outputs": [],
   "source": [
    "#Define your (As Cool As It Gets) Fully Connected Neural Network \n",
    "#layers = [nn.Linear(input_dim, units_per_layer), activation()]\n",
    "class ACAIGFCN(nn.Module):\n",
    "    #Initialize model layers, add additional arguments to adjust\n",
    "    def __init__(self, input_dim, output_dim, inner_layers): \n",
    "        super(ACAIGFCN, self).__init__()\n",
    "        layers = []\n",
    "        prev_dim = input_dim\n",
    "        \n",
    "        for units in inner_layers:\n",
    "            layers.append(nn.Linear(prev_dim, units))\n",
    "            layers.append(nn.ReLU())\n",
    "            prev_dim = units\n",
    "        layers.append(nn.Linear(prev_dim, output_dim))   \n",
    "        self.model = nn.Sequential(*layers)       \n",
    " \n",
    "    def forward(self, input):\n",
    "        return self.model(input)\n",
    "        #Define how your model propagates the input through the network"
   ]
  },
  {
   "cell_type": "code",
   "execution_count": 4,
   "metadata": {},
   "outputs": [],
   "source": [
    "model = ACAIGFCN(input_dim = 784, output_dim = 10, inner_layers= [480,100])#480 100\n",
    "# Define the learning rate and epochs number\n",
    "learning_rate = 0.125#0.2\n",
    "epochs = 100\n",
    "train_loss_list = np.zeros((epochs,))\n",
    "validation_accuracy_list = np.zeros((epochs,))\n",
    "# Define loss function  and optimizer\n",
    "loss_func = torch.nn.CrossEntropyLoss()\n",
    "optimizer = torch.optim.SGD(model.parameters(), lr=learning_rate)"
   ]
  },
  {
   "cell_type": "code",
   "execution_count": 6,
   "metadata": {},
   "outputs": [
    {
     "name": "stderr",
     "output_type": "stream",
     "text": [
      "  1%|          | 1/100 [00:03<05:16,  3.19s/it]"
     ]
    },
    {
     "name": "stdout",
     "output_type": "stream",
     "text": [
      "Epoch 1: Train Loss=0.6651, Validation Accuracy=0.7092\n"
     ]
    },
    {
     "name": "stderr",
     "output_type": "stream",
     "text": [
      "  2%|▏         | 2/100 [00:06<05:01,  3.07s/it]"
     ]
    },
    {
     "name": "stdout",
     "output_type": "stream",
     "text": [
      "Epoch 2: Train Loss=0.4707, Validation Accuracy=0.8179\n"
     ]
    },
    {
     "name": "stderr",
     "output_type": "stream",
     "text": [
      "  3%|▎         | 3/100 [00:09<04:49,  2.98s/it]"
     ]
    },
    {
     "name": "stdout",
     "output_type": "stream",
     "text": [
      "Epoch 3: Train Loss=0.4647, Validation Accuracy=0.8614\n"
     ]
    },
    {
     "name": "stderr",
     "output_type": "stream",
     "text": [
      "  4%|▍         | 4/100 [00:11<04:42,  2.94s/it]"
     ]
    },
    {
     "name": "stdout",
     "output_type": "stream",
     "text": [
      "Epoch 4: Train Loss=0.4458, Validation Accuracy=0.8288\n"
     ]
    },
    {
     "name": "stderr",
     "output_type": "stream",
     "text": [
      "  5%|▌         | 5/100 [00:14<04:36,  2.91s/it]"
     ]
    },
    {
     "name": "stdout",
     "output_type": "stream",
     "text": [
      "Epoch 5: Train Loss=0.2654, Validation Accuracy=0.8859\n"
     ]
    },
    {
     "name": "stderr",
     "output_type": "stream",
     "text": [
      "  6%|▌         | 6/100 [00:17<04:35,  2.93s/it]"
     ]
    },
    {
     "name": "stdout",
     "output_type": "stream",
     "text": [
      "Epoch 6: Train Loss=0.3566, Validation Accuracy=0.8505\n"
     ]
    },
    {
     "name": "stderr",
     "output_type": "stream",
     "text": [
      "  7%|▋         | 7/100 [00:20<04:30,  2.91s/it]"
     ]
    },
    {
     "name": "stdout",
     "output_type": "stream",
     "text": [
      "Epoch 7: Train Loss=0.2525, Validation Accuracy=0.8533\n"
     ]
    },
    {
     "name": "stderr",
     "output_type": "stream",
     "text": [
      "  8%|▊         | 8/100 [00:23<04:27,  2.90s/it]"
     ]
    },
    {
     "name": "stdout",
     "output_type": "stream",
     "text": [
      "Epoch 8: Train Loss=0.2625, Validation Accuracy=0.8723\n"
     ]
    },
    {
     "name": "stderr",
     "output_type": "stream",
     "text": [
      "  9%|▉         | 9/100 [00:26<04:23,  2.89s/it]"
     ]
    },
    {
     "name": "stdout",
     "output_type": "stream",
     "text": [
      "Epoch 9: Train Loss=0.3200, Validation Accuracy=0.8370\n"
     ]
    },
    {
     "name": "stderr",
     "output_type": "stream",
     "text": [
      " 10%|█         | 10/100 [00:29<04:19,  2.88s/it]"
     ]
    },
    {
     "name": "stdout",
     "output_type": "stream",
     "text": [
      "Epoch 10: Train Loss=0.3730, Validation Accuracy=0.8777\n"
     ]
    },
    {
     "name": "stderr",
     "output_type": "stream",
     "text": [
      " 11%|█         | 11/100 [00:32<04:15,  2.87s/it]"
     ]
    },
    {
     "name": "stdout",
     "output_type": "stream",
     "text": [
      "Epoch 11: Train Loss=0.2630, Validation Accuracy=0.8777\n"
     ]
    },
    {
     "name": "stderr",
     "output_type": "stream",
     "text": [
      " 12%|█▏        | 12/100 [00:35<04:15,  2.90s/it]"
     ]
    },
    {
     "name": "stdout",
     "output_type": "stream",
     "text": [
      "Epoch 12: Train Loss=0.2931, Validation Accuracy=0.8804\n"
     ]
    },
    {
     "name": "stderr",
     "output_type": "stream",
     "text": [
      " 13%|█▎        | 13/100 [00:37<04:11,  2.89s/it]"
     ]
    },
    {
     "name": "stdout",
     "output_type": "stream",
     "text": [
      "Epoch 13: Train Loss=0.3334, Validation Accuracy=0.8505\n"
     ]
    },
    {
     "name": "stderr",
     "output_type": "stream",
     "text": [
      " 14%|█▍        | 14/100 [00:40<04:07,  2.88s/it]"
     ]
    },
    {
     "name": "stdout",
     "output_type": "stream",
     "text": [
      "Epoch 14: Train Loss=0.2861, Validation Accuracy=0.8560\n"
     ]
    },
    {
     "name": "stderr",
     "output_type": "stream",
     "text": [
      " 15%|█▌        | 15/100 [00:43<04:04,  2.87s/it]"
     ]
    },
    {
     "name": "stdout",
     "output_type": "stream",
     "text": [
      "Epoch 15: Train Loss=0.2384, Validation Accuracy=0.8940\n"
     ]
    },
    {
     "name": "stderr",
     "output_type": "stream",
     "text": [
      " 16%|█▌        | 16/100 [00:46<04:01,  2.87s/it]"
     ]
    },
    {
     "name": "stdout",
     "output_type": "stream",
     "text": [
      "Epoch 16: Train Loss=0.2197, Validation Accuracy=0.8804\n"
     ]
    },
    {
     "name": "stderr",
     "output_type": "stream",
     "text": [
      " 17%|█▋        | 17/100 [00:49<03:57,  2.87s/it]"
     ]
    },
    {
     "name": "stdout",
     "output_type": "stream",
     "text": [
      "Epoch 17: Train Loss=0.2357, Validation Accuracy=0.8641\n"
     ]
    },
    {
     "name": "stderr",
     "output_type": "stream",
     "text": [
      " 18%|█▊        | 18/100 [00:52<03:57,  2.89s/it]"
     ]
    },
    {
     "name": "stdout",
     "output_type": "stream",
     "text": [
      "Epoch 18: Train Loss=0.2114, Validation Accuracy=0.8940\n"
     ]
    },
    {
     "name": "stderr",
     "output_type": "stream",
     "text": [
      " 19%|█▉        | 19/100 [00:55<03:53,  2.89s/it]"
     ]
    },
    {
     "name": "stdout",
     "output_type": "stream",
     "text": [
      "Epoch 19: Train Loss=0.2133, Validation Accuracy=0.9130\n"
     ]
    },
    {
     "name": "stderr",
     "output_type": "stream",
     "text": [
      " 20%|██        | 20/100 [00:58<03:50,  2.88s/it]"
     ]
    },
    {
     "name": "stdout",
     "output_type": "stream",
     "text": [
      "Epoch 20: Train Loss=0.2206, Validation Accuracy=0.9239\n"
     ]
    },
    {
     "name": "stderr",
     "output_type": "stream",
     "text": [
      " 21%|██        | 21/100 [01:00<03:47,  2.88s/it]"
     ]
    },
    {
     "name": "stdout",
     "output_type": "stream",
     "text": [
      "Epoch 21: Train Loss=0.2904, Validation Accuracy=0.8832\n"
     ]
    },
    {
     "name": "stderr",
     "output_type": "stream",
     "text": [
      " 22%|██▏       | 22/100 [01:03<03:44,  2.88s/it]"
     ]
    },
    {
     "name": "stdout",
     "output_type": "stream",
     "text": [
      "Epoch 22: Train Loss=0.2927, Validation Accuracy=0.8478\n"
     ]
    },
    {
     "name": "stderr",
     "output_type": "stream",
     "text": [
      " 23%|██▎       | 23/100 [01:06<03:42,  2.89s/it]"
     ]
    },
    {
     "name": "stdout",
     "output_type": "stream",
     "text": [
      "Epoch 23: Train Loss=0.1499, Validation Accuracy=0.8940\n"
     ]
    },
    {
     "name": "stderr",
     "output_type": "stream",
     "text": [
      " 24%|██▍       | 24/100 [01:09<03:42,  2.92s/it]"
     ]
    },
    {
     "name": "stdout",
     "output_type": "stream",
     "text": [
      "Epoch 24: Train Loss=0.2366, Validation Accuracy=0.8723\n"
     ]
    },
    {
     "name": "stderr",
     "output_type": "stream",
     "text": [
      " 25%|██▌       | 25/100 [01:12<03:43,  2.98s/it]"
     ]
    },
    {
     "name": "stdout",
     "output_type": "stream",
     "text": [
      "Epoch 25: Train Loss=0.2326, Validation Accuracy=0.8533\n"
     ]
    },
    {
     "name": "stderr",
     "output_type": "stream",
     "text": [
      " 26%|██▌       | 26/100 [01:15<03:41,  2.99s/it]"
     ]
    },
    {
     "name": "stdout",
     "output_type": "stream",
     "text": [
      "Epoch 26: Train Loss=0.2127, Validation Accuracy=0.9185\n"
     ]
    },
    {
     "name": "stderr",
     "output_type": "stream",
     "text": [
      " 27%|██▋       | 27/100 [01:18<03:39,  3.01s/it]"
     ]
    },
    {
     "name": "stdout",
     "output_type": "stream",
     "text": [
      "Epoch 27: Train Loss=0.2724, Validation Accuracy=0.8777\n"
     ]
    },
    {
     "name": "stderr",
     "output_type": "stream",
     "text": [
      " 28%|██▊       | 28/100 [01:21<03:37,  3.02s/it]"
     ]
    },
    {
     "name": "stdout",
     "output_type": "stream",
     "text": [
      "Epoch 28: Train Loss=0.1430, Validation Accuracy=0.8560\n"
     ]
    },
    {
     "name": "stderr",
     "output_type": "stream",
     "text": [
      " 29%|██▉       | 29/100 [01:25<03:35,  3.04s/it]"
     ]
    },
    {
     "name": "stdout",
     "output_type": "stream",
     "text": [
      "Epoch 29: Train Loss=0.2831, Validation Accuracy=0.8913\n"
     ]
    },
    {
     "name": "stderr",
     "output_type": "stream",
     "text": [
      " 30%|███       | 30/100 [01:28<03:33,  3.06s/it]"
     ]
    },
    {
     "name": "stdout",
     "output_type": "stream",
     "text": [
      "Epoch 30: Train Loss=0.1725, Validation Accuracy=0.9239\n"
     ]
    },
    {
     "name": "stderr",
     "output_type": "stream",
     "text": [
      " 31%|███       | 31/100 [01:31<03:33,  3.09s/it]"
     ]
    },
    {
     "name": "stdout",
     "output_type": "stream",
     "text": [
      "Epoch 31: Train Loss=0.1592, Validation Accuracy=0.8804\n"
     ]
    },
    {
     "name": "stderr",
     "output_type": "stream",
     "text": [
      " 32%|███▏      | 32/100 [01:34<03:30,  3.10s/it]"
     ]
    },
    {
     "name": "stdout",
     "output_type": "stream",
     "text": [
      "Epoch 32: Train Loss=0.2204, Validation Accuracy=0.8777\n"
     ]
    },
    {
     "name": "stderr",
     "output_type": "stream",
     "text": [
      " 33%|███▎      | 33/100 [01:37<03:28,  3.11s/it]"
     ]
    },
    {
     "name": "stdout",
     "output_type": "stream",
     "text": [
      "Epoch 33: Train Loss=0.1731, Validation Accuracy=0.9158\n"
     ]
    },
    {
     "name": "stderr",
     "output_type": "stream",
     "text": [
      " 34%|███▍      | 34/100 [01:40<03:25,  3.11s/it]"
     ]
    },
    {
     "name": "stdout",
     "output_type": "stream",
     "text": [
      "Epoch 34: Train Loss=0.2004, Validation Accuracy=0.8832\n"
     ]
    },
    {
     "name": "stderr",
     "output_type": "stream",
     "text": [
      " 35%|███▌      | 35/100 [01:43<03:22,  3.12s/it]"
     ]
    },
    {
     "name": "stdout",
     "output_type": "stream",
     "text": [
      "Epoch 35: Train Loss=0.1074, Validation Accuracy=0.9022\n"
     ]
    },
    {
     "name": "stderr",
     "output_type": "stream",
     "text": [
      " 36%|███▌      | 36/100 [01:46<03:20,  3.13s/it]"
     ]
    },
    {
     "name": "stdout",
     "output_type": "stream",
     "text": [
      "Epoch 36: Train Loss=0.1919, Validation Accuracy=0.8967\n"
     ]
    },
    {
     "name": "stderr",
     "output_type": "stream",
     "text": [
      " 37%|███▋      | 37/100 [01:50<03:17,  3.13s/it]"
     ]
    },
    {
     "name": "stdout",
     "output_type": "stream",
     "text": [
      "Epoch 37: Train Loss=0.1736, Validation Accuracy=0.9130\n"
     ]
    },
    {
     "name": "stderr",
     "output_type": "stream",
     "text": [
      " 38%|███▊      | 38/100 [01:53<03:15,  3.16s/it]"
     ]
    },
    {
     "name": "stdout",
     "output_type": "stream",
     "text": [
      "Epoch 38: Train Loss=0.1851, Validation Accuracy=0.8832\n"
     ]
    },
    {
     "name": "stderr",
     "output_type": "stream",
     "text": [
      " 39%|███▉      | 39/100 [01:56<03:12,  3.15s/it]"
     ]
    },
    {
     "name": "stdout",
     "output_type": "stream",
     "text": [
      "Epoch 39: Train Loss=0.1762, Validation Accuracy=0.8967\n"
     ]
    },
    {
     "name": "stderr",
     "output_type": "stream",
     "text": [
      " 40%|████      | 40/100 [01:59<03:09,  3.16s/it]"
     ]
    },
    {
     "name": "stdout",
     "output_type": "stream",
     "text": [
      "Epoch 40: Train Loss=0.2380, Validation Accuracy=0.8832\n"
     ]
    },
    {
     "name": "stderr",
     "output_type": "stream",
     "text": [
      " 41%|████      | 41/100 [02:02<03:06,  3.16s/it]"
     ]
    },
    {
     "name": "stdout",
     "output_type": "stream",
     "text": [
      "Epoch 41: Train Loss=0.1900, Validation Accuracy=0.8641\n"
     ]
    },
    {
     "name": "stderr",
     "output_type": "stream",
     "text": [
      " 42%|████▏     | 42/100 [02:05<03:03,  3.16s/it]"
     ]
    },
    {
     "name": "stdout",
     "output_type": "stream",
     "text": [
      "Epoch 42: Train Loss=0.1190, Validation Accuracy=0.8995\n"
     ]
    },
    {
     "name": "stderr",
     "output_type": "stream",
     "text": [
      " 43%|████▎     | 43/100 [02:09<03:00,  3.17s/it]"
     ]
    },
    {
     "name": "stdout",
     "output_type": "stream",
     "text": [
      "Epoch 43: Train Loss=0.1483, Validation Accuracy=0.9130\n"
     ]
    },
    {
     "name": "stderr",
     "output_type": "stream",
     "text": [
      " 44%|████▍     | 44/100 [02:12<02:58,  3.19s/it]"
     ]
    },
    {
     "name": "stdout",
     "output_type": "stream",
     "text": [
      "Epoch 44: Train Loss=0.1270, Validation Accuracy=0.8859\n"
     ]
    },
    {
     "name": "stderr",
     "output_type": "stream",
     "text": [
      " 45%|████▌     | 45/100 [02:15<02:55,  3.18s/it]"
     ]
    },
    {
     "name": "stdout",
     "output_type": "stream",
     "text": [
      "Epoch 45: Train Loss=0.1215, Validation Accuracy=0.9130\n"
     ]
    },
    {
     "name": "stderr",
     "output_type": "stream",
     "text": [
      " 46%|████▌     | 46/100 [02:18<02:51,  3.18s/it]"
     ]
    },
    {
     "name": "stdout",
     "output_type": "stream",
     "text": [
      "Epoch 46: Train Loss=0.1489, Validation Accuracy=0.8995\n"
     ]
    },
    {
     "name": "stderr",
     "output_type": "stream",
     "text": [
      " 47%|████▋     | 47/100 [02:21<02:48,  3.19s/it]"
     ]
    },
    {
     "name": "stdout",
     "output_type": "stream",
     "text": [
      "Epoch 47: Train Loss=0.1157, Validation Accuracy=0.8832\n"
     ]
    },
    {
     "name": "stderr",
     "output_type": "stream",
     "text": [
      " 48%|████▊     | 48/100 [02:25<02:45,  3.19s/it]"
     ]
    },
    {
     "name": "stdout",
     "output_type": "stream",
     "text": [
      "Epoch 48: Train Loss=0.1393, Validation Accuracy=0.9022\n"
     ]
    },
    {
     "name": "stderr",
     "output_type": "stream",
     "text": [
      " 49%|████▉     | 49/100 [02:28<02:42,  3.19s/it]"
     ]
    },
    {
     "name": "stdout",
     "output_type": "stream",
     "text": [
      "Epoch 49: Train Loss=0.1141, Validation Accuracy=0.8832\n"
     ]
    },
    {
     "name": "stderr",
     "output_type": "stream",
     "text": [
      " 50%|█████     | 50/100 [02:31<02:39,  3.19s/it]"
     ]
    },
    {
     "name": "stdout",
     "output_type": "stream",
     "text": [
      "Epoch 50: Train Loss=0.1245, Validation Accuracy=0.8886\n"
     ]
    },
    {
     "name": "stderr",
     "output_type": "stream",
     "text": [
      " 51%|█████     | 51/100 [02:34<02:37,  3.21s/it]"
     ]
    },
    {
     "name": "stdout",
     "output_type": "stream",
     "text": [
      "Epoch 51: Train Loss=0.2335, Validation Accuracy=0.8641\n"
     ]
    },
    {
     "name": "stderr",
     "output_type": "stream",
     "text": [
      " 52%|█████▏    | 52/100 [02:37<02:33,  3.21s/it]"
     ]
    },
    {
     "name": "stdout",
     "output_type": "stream",
     "text": [
      "Epoch 52: Train Loss=0.1393, Validation Accuracy=0.9212\n"
     ]
    },
    {
     "name": "stderr",
     "output_type": "stream",
     "text": [
      " 53%|█████▎    | 53/100 [02:41<02:31,  3.22s/it]"
     ]
    },
    {
     "name": "stdout",
     "output_type": "stream",
     "text": [
      "Epoch 53: Train Loss=0.1311, Validation Accuracy=0.8913\n"
     ]
    },
    {
     "name": "stderr",
     "output_type": "stream",
     "text": [
      " 54%|█████▍    | 54/100 [02:44<02:27,  3.21s/it]"
     ]
    },
    {
     "name": "stdout",
     "output_type": "stream",
     "text": [
      "Epoch 54: Train Loss=0.1355, Validation Accuracy=0.9103\n"
     ]
    },
    {
     "name": "stderr",
     "output_type": "stream",
     "text": [
      " 55%|█████▌    | 55/100 [02:47<02:24,  3.21s/it]"
     ]
    },
    {
     "name": "stdout",
     "output_type": "stream",
     "text": [
      "Epoch 55: Train Loss=0.2162, Validation Accuracy=0.8940\n"
     ]
    },
    {
     "name": "stderr",
     "output_type": "stream",
     "text": [
      " 56%|█████▌    | 56/100 [02:50<02:21,  3.22s/it]"
     ]
    },
    {
     "name": "stdout",
     "output_type": "stream",
     "text": [
      "Epoch 56: Train Loss=0.2089, Validation Accuracy=0.9103\n"
     ]
    },
    {
     "name": "stderr",
     "output_type": "stream",
     "text": [
      " 57%|█████▋    | 57/100 [02:54<02:19,  3.24s/it]"
     ]
    },
    {
     "name": "stdout",
     "output_type": "stream",
     "text": [
      "Epoch 57: Train Loss=0.1617, Validation Accuracy=0.9076\n"
     ]
    },
    {
     "name": "stderr",
     "output_type": "stream",
     "text": [
      " 58%|█████▊    | 58/100 [02:57<02:16,  3.24s/it]"
     ]
    },
    {
     "name": "stdout",
     "output_type": "stream",
     "text": [
      "Epoch 58: Train Loss=0.1724, Validation Accuracy=0.8777\n"
     ]
    },
    {
     "name": "stderr",
     "output_type": "stream",
     "text": [
      " 59%|█████▉    | 59/100 [03:00<02:12,  3.24s/it]"
     ]
    },
    {
     "name": "stdout",
     "output_type": "stream",
     "text": [
      "Epoch 59: Train Loss=0.1428, Validation Accuracy=0.8940\n"
     ]
    },
    {
     "name": "stderr",
     "output_type": "stream",
     "text": [
      " 60%|██████    | 60/100 [03:03<02:09,  3.23s/it]"
     ]
    },
    {
     "name": "stdout",
     "output_type": "stream",
     "text": [
      "Epoch 60: Train Loss=0.1851, Validation Accuracy=0.8614\n"
     ]
    },
    {
     "name": "stderr",
     "output_type": "stream",
     "text": [
      " 61%|██████    | 61/100 [03:07<02:06,  3.24s/it]"
     ]
    },
    {
     "name": "stdout",
     "output_type": "stream",
     "text": [
      "Epoch 61: Train Loss=0.1313, Validation Accuracy=0.8478\n"
     ]
    },
    {
     "name": "stderr",
     "output_type": "stream",
     "text": [
      " 62%|██████▏   | 62/100 [03:10<02:03,  3.24s/it]"
     ]
    },
    {
     "name": "stdout",
     "output_type": "stream",
     "text": [
      "Epoch 62: Train Loss=0.2229, Validation Accuracy=0.8696\n"
     ]
    },
    {
     "name": "stderr",
     "output_type": "stream",
     "text": [
      " 63%|██████▎   | 63/100 [03:13<02:00,  3.24s/it]"
     ]
    },
    {
     "name": "stdout",
     "output_type": "stream",
     "text": [
      "Epoch 63: Train Loss=0.1009, Validation Accuracy=0.9049\n"
     ]
    },
    {
     "name": "stderr",
     "output_type": "stream",
     "text": [
      " 64%|██████▍   | 64/100 [03:16<01:57,  3.26s/it]"
     ]
    },
    {
     "name": "stdout",
     "output_type": "stream",
     "text": [
      "Epoch 64: Train Loss=0.0645, Validation Accuracy=0.9049\n"
     ]
    },
    {
     "name": "stderr",
     "output_type": "stream",
     "text": [
      " 65%|██████▌   | 65/100 [03:20<01:53,  3.26s/it]"
     ]
    },
    {
     "name": "stdout",
     "output_type": "stream",
     "text": [
      "Epoch 65: Train Loss=0.0950, Validation Accuracy=0.9158\n"
     ]
    },
    {
     "name": "stderr",
     "output_type": "stream",
     "text": [
      " 66%|██████▌   | 66/100 [03:23<01:50,  3.26s/it]"
     ]
    },
    {
     "name": "stdout",
     "output_type": "stream",
     "text": [
      "Epoch 66: Train Loss=0.0875, Validation Accuracy=0.8967\n"
     ]
    },
    {
     "name": "stderr",
     "output_type": "stream",
     "text": [
      " 67%|██████▋   | 67/100 [03:26<01:47,  3.25s/it]"
     ]
    },
    {
     "name": "stdout",
     "output_type": "stream",
     "text": [
      "Epoch 67: Train Loss=0.0661, Validation Accuracy=0.8940\n"
     ]
    },
    {
     "name": "stderr",
     "output_type": "stream",
     "text": [
      " 68%|██████▊   | 68/100 [03:29<01:43,  3.25s/it]"
     ]
    },
    {
     "name": "stdout",
     "output_type": "stream",
     "text": [
      "Epoch 68: Train Loss=0.1136, Validation Accuracy=0.8886\n"
     ]
    },
    {
     "name": "stderr",
     "output_type": "stream",
     "text": [
      " 69%|██████▉   | 69/100 [03:33<01:40,  3.25s/it]"
     ]
    },
    {
     "name": "stdout",
     "output_type": "stream",
     "text": [
      "Epoch 69: Train Loss=0.1171, Validation Accuracy=0.8940\n"
     ]
    },
    {
     "name": "stderr",
     "output_type": "stream",
     "text": [
      " 70%|███████   | 70/100 [03:36<01:38,  3.28s/it]"
     ]
    },
    {
     "name": "stdout",
     "output_type": "stream",
     "text": [
      "Epoch 70: Train Loss=0.1439, Validation Accuracy=0.8995\n"
     ]
    },
    {
     "name": "stderr",
     "output_type": "stream",
     "text": [
      " 71%|███████   | 71/100 [03:39<01:35,  3.28s/it]"
     ]
    },
    {
     "name": "stdout",
     "output_type": "stream",
     "text": [
      "Epoch 71: Train Loss=0.0792, Validation Accuracy=0.8886\n"
     ]
    },
    {
     "name": "stderr",
     "output_type": "stream",
     "text": [
      " 72%|███████▏  | 72/100 [03:42<01:31,  3.27s/it]"
     ]
    },
    {
     "name": "stdout",
     "output_type": "stream",
     "text": [
      "Epoch 72: Train Loss=0.1094, Validation Accuracy=0.9049\n"
     ]
    },
    {
     "name": "stderr",
     "output_type": "stream",
     "text": [
      " 73%|███████▎  | 73/100 [03:46<01:28,  3.26s/it]"
     ]
    },
    {
     "name": "stdout",
     "output_type": "stream",
     "text": [
      "Epoch 73: Train Loss=0.0718, Validation Accuracy=0.9130\n"
     ]
    },
    {
     "name": "stderr",
     "output_type": "stream",
     "text": [
      " 74%|███████▍  | 74/100 [03:49<01:24,  3.27s/it]"
     ]
    },
    {
     "name": "stdout",
     "output_type": "stream",
     "text": [
      "Epoch 74: Train Loss=0.0699, Validation Accuracy=0.8832\n"
     ]
    },
    {
     "name": "stderr",
     "output_type": "stream",
     "text": [
      " 75%|███████▌  | 75/100 [03:52<01:21,  3.26s/it]"
     ]
    },
    {
     "name": "stdout",
     "output_type": "stream",
     "text": [
      "Epoch 75: Train Loss=0.1222, Validation Accuracy=0.9049\n"
     ]
    },
    {
     "name": "stderr",
     "output_type": "stream",
     "text": [
      " 76%|███████▌  | 76/100 [03:56<01:18,  3.27s/it]"
     ]
    },
    {
     "name": "stdout",
     "output_type": "stream",
     "text": [
      "Epoch 76: Train Loss=0.0714, Validation Accuracy=0.9076\n"
     ]
    },
    {
     "name": "stderr",
     "output_type": "stream",
     "text": [
      " 77%|███████▋  | 77/100 [03:59<01:15,  3.29s/it]"
     ]
    },
    {
     "name": "stdout",
     "output_type": "stream",
     "text": [
      "Epoch 77: Train Loss=0.0916, Validation Accuracy=0.8859\n"
     ]
    },
    {
     "name": "stderr",
     "output_type": "stream",
     "text": [
      " 78%|███████▊  | 78/100 [04:02<01:12,  3.29s/it]"
     ]
    },
    {
     "name": "stdout",
     "output_type": "stream",
     "text": [
      "Epoch 78: Train Loss=0.1804, Validation Accuracy=0.7717\n"
     ]
    },
    {
     "name": "stderr",
     "output_type": "stream",
     "text": [
      " 79%|███████▉  | 79/100 [04:05<01:08,  3.28s/it]"
     ]
    },
    {
     "name": "stdout",
     "output_type": "stream",
     "text": [
      "Epoch 79: Train Loss=0.0860, Validation Accuracy=0.9266\n"
     ]
    },
    {
     "name": "stderr",
     "output_type": "stream",
     "text": [
      " 80%|████████  | 80/100 [04:09<01:05,  3.28s/it]"
     ]
    },
    {
     "name": "stdout",
     "output_type": "stream",
     "text": [
      "Epoch 80: Train Loss=0.0795, Validation Accuracy=0.8777\n"
     ]
    },
    {
     "name": "stderr",
     "output_type": "stream",
     "text": [
      " 81%|████████  | 81/100 [04:12<01:02,  3.27s/it]"
     ]
    },
    {
     "name": "stdout",
     "output_type": "stream",
     "text": [
      "Epoch 81: Train Loss=0.1215, Validation Accuracy=0.9158\n"
     ]
    },
    {
     "name": "stderr",
     "output_type": "stream",
     "text": [
      " 82%|████████▏ | 82/100 [04:15<00:59,  3.28s/it]"
     ]
    },
    {
     "name": "stdout",
     "output_type": "stream",
     "text": [
      "Epoch 82: Train Loss=0.0719, Validation Accuracy=0.8750\n"
     ]
    },
    {
     "name": "stderr",
     "output_type": "stream",
     "text": [
      " 83%|████████▎ | 83/100 [04:19<00:56,  3.31s/it]"
     ]
    },
    {
     "name": "stdout",
     "output_type": "stream",
     "text": [
      "Epoch 83: Train Loss=0.0700, Validation Accuracy=0.9130\n"
     ]
    },
    {
     "name": "stderr",
     "output_type": "stream",
     "text": [
      " 84%|████████▍ | 84/100 [04:22<00:52,  3.29s/it]"
     ]
    },
    {
     "name": "stdout",
     "output_type": "stream",
     "text": [
      "Epoch 84: Train Loss=0.0584, Validation Accuracy=0.9103\n"
     ]
    },
    {
     "name": "stderr",
     "output_type": "stream",
     "text": [
      " 85%|████████▌ | 85/100 [04:25<00:49,  3.29s/it]"
     ]
    },
    {
     "name": "stdout",
     "output_type": "stream",
     "text": [
      "Epoch 85: Train Loss=0.1026, Validation Accuracy=0.8913\n"
     ]
    },
    {
     "name": "stderr",
     "output_type": "stream",
     "text": [
      " 86%|████████▌ | 86/100 [04:28<00:46,  3.29s/it]"
     ]
    },
    {
     "name": "stdout",
     "output_type": "stream",
     "text": [
      "Epoch 86: Train Loss=0.0839, Validation Accuracy=0.8397\n"
     ]
    },
    {
     "name": "stderr",
     "output_type": "stream",
     "text": [
      " 87%|████████▋ | 87/100 [04:32<00:42,  3.28s/it]"
     ]
    },
    {
     "name": "stdout",
     "output_type": "stream",
     "text": [
      "Epoch 87: Train Loss=0.0789, Validation Accuracy=0.8967\n"
     ]
    },
    {
     "name": "stderr",
     "output_type": "stream",
     "text": [
      " 88%|████████▊ | 88/100 [04:35<00:39,  3.29s/it]"
     ]
    },
    {
     "name": "stdout",
     "output_type": "stream",
     "text": [
      "Epoch 88: Train Loss=0.0461, Validation Accuracy=0.8967\n"
     ]
    },
    {
     "name": "stderr",
     "output_type": "stream",
     "text": [
      " 89%|████████▉ | 89/100 [04:38<00:36,  3.28s/it]"
     ]
    },
    {
     "name": "stdout",
     "output_type": "stream",
     "text": [
      "Epoch 89: Train Loss=0.1736, Validation Accuracy=0.8804\n"
     ]
    },
    {
     "name": "stderr",
     "output_type": "stream",
     "text": [
      " 90%|█████████ | 90/100 [04:42<00:33,  3.30s/it]"
     ]
    },
    {
     "name": "stdout",
     "output_type": "stream",
     "text": [
      "Epoch 90: Train Loss=0.0763, Validation Accuracy=0.8967\n"
     ]
    },
    {
     "name": "stderr",
     "output_type": "stream",
     "text": [
      " 91%|█████████ | 91/100 [04:45<00:29,  3.30s/it]"
     ]
    },
    {
     "name": "stdout",
     "output_type": "stream",
     "text": [
      "Epoch 91: Train Loss=0.0637, Validation Accuracy=0.9076\n"
     ]
    },
    {
     "name": "stderr",
     "output_type": "stream",
     "text": [
      " 92%|█████████▏| 92/100 [04:48<00:26,  3.30s/it]"
     ]
    },
    {
     "name": "stdout",
     "output_type": "stream",
     "text": [
      "Epoch 92: Train Loss=0.0434, Validation Accuracy=0.9321\n"
     ]
    },
    {
     "name": "stderr",
     "output_type": "stream",
     "text": [
      " 93%|█████████▎| 93/100 [04:52<00:23,  3.31s/it]"
     ]
    },
    {
     "name": "stdout",
     "output_type": "stream",
     "text": [
      "Epoch 93: Train Loss=0.0742, Validation Accuracy=0.9103\n"
     ]
    },
    {
     "name": "stderr",
     "output_type": "stream",
     "text": [
      " 94%|█████████▍| 94/100 [04:55<00:19,  3.31s/it]"
     ]
    },
    {
     "name": "stdout",
     "output_type": "stream",
     "text": [
      "Epoch 94: Train Loss=0.0644, Validation Accuracy=0.8995\n"
     ]
    },
    {
     "name": "stderr",
     "output_type": "stream",
     "text": [
      " 95%|█████████▌| 95/100 [04:58<00:16,  3.31s/it]"
     ]
    },
    {
     "name": "stdout",
     "output_type": "stream",
     "text": [
      "Epoch 95: Train Loss=0.0606, Validation Accuracy=0.8886\n"
     ]
    },
    {
     "name": "stderr",
     "output_type": "stream",
     "text": [
      " 96%|█████████▌| 96/100 [05:02<00:13,  3.33s/it]"
     ]
    },
    {
     "name": "stdout",
     "output_type": "stream",
     "text": [
      "Epoch 96: Train Loss=0.0859, Validation Accuracy=0.8696\n"
     ]
    },
    {
     "name": "stderr",
     "output_type": "stream",
     "text": [
      " 97%|█████████▋| 97/100 [05:05<00:09,  3.32s/it]"
     ]
    },
    {
     "name": "stdout",
     "output_type": "stream",
     "text": [
      "Epoch 97: Train Loss=0.0295, Validation Accuracy=0.8967\n"
     ]
    },
    {
     "name": "stderr",
     "output_type": "stream",
     "text": [
      " 98%|█████████▊| 98/100 [05:08<00:06,  3.32s/it]"
     ]
    },
    {
     "name": "stdout",
     "output_type": "stream",
     "text": [
      "Epoch 98: Train Loss=0.0295, Validation Accuracy=0.9103\n"
     ]
    },
    {
     "name": "stderr",
     "output_type": "stream",
     "text": [
      " 99%|█████████▉| 99/100 [05:11<00:03,  3.31s/it]"
     ]
    },
    {
     "name": "stdout",
     "output_type": "stream",
     "text": [
      "Epoch 99: Train Loss=0.0660, Validation Accuracy=0.8614\n"
     ]
    },
    {
     "name": "stderr",
     "output_type": "stream",
     "text": [
      "100%|██████████| 100/100 [05:15<00:00,  3.15s/it]"
     ]
    },
    {
     "name": "stdout",
     "output_type": "stream",
     "text": [
      "Epoch 100: Train Loss=0.0616, Validation Accuracy=0.8859\n"
     ]
    },
    {
     "name": "stderr",
     "output_type": "stream",
     "text": [
      "\n"
     ]
    },
    {
     "data": {
      "text/plain": [
       "Text(0.5, 1.0, 'Accuracy over Epochs')"
      ]
     },
     "execution_count": 6,
     "metadata": {},
     "output_type": "execute_result"
    },
    {
     "data": {
      "image/png": "[encoded data removed]",
      "text/plain": [
       "<Figure size 1200x500 with 2 Axes>"
      ]
     },
     "metadata": {},
     "output_type": "display_data"
    }
   ],
   "source": [
    "# Iterate over epochs, batches with progress bar and train+ validate the ACAIGFCN\n",
    "# Track the loss and validation accuracy\n",
    "\n",
    "for epoch in tqdm.trange(epochs):\n",
    "\n",
    "    # ACAIGFCN Training \n",
    "    for train_features, train_labels in train_batches:\n",
    "        # Set model into training mode\n",
    "        model.train()\n",
    "        optimizer.zero_grad()\n",
    "        \n",
    "        # Reshape images into a vector\n",
    "        train_features = train_features.reshape(-1, 28*28)\n",
    "\n",
    "        train_outputs = model(train_features)\n",
    "        loss = nn.CrossEntropyLoss()##########\n",
    "        output = loss(train_outputs,train_labels)\n",
    "         #to check overfitting\n",
    "        \n",
    "        output.backward()\n",
    "        optimizer.step()\n",
    "        # Reset gradients, Calculate training loss on model \n",
    "        # Perfrom optimization, back propagation\n",
    "    train_loss_list[epoch] = output.item()\n",
    "    # Record loss for the epoch\n",
    "    \n",
    "    # ACAIGFCN Validation\n",
    "    for val_features, val_labels in val_batches:\n",
    "        \n",
    "        # Telling PyTorch we aren't passing inputs to network for training purpose\n",
    "        with torch.no_grad(): \n",
    "            model.eval()\n",
    "            \n",
    "             # Reshape validation images into a vector\n",
    "            val_features = val_features.reshape(-1, 28*28)\n",
    "            val_output = model(val_features)\n",
    "            val_pred = torch.argmax(val_output, dim=1)\n",
    "            val_acc = (val_pred == val_labels).float().mean().item()\n",
    "            #validation_accuracy_list.append(val_acc)\n",
    "\n",
    "           \n",
    "        \n",
    "            validation_accuracy_list[epoch] = val_acc\n",
    "            # Compute validation outputs (targets) \n",
    "            # and compute accuracy \n",
    "    print(f\"Epoch {epoch+1}: Train Loss={output.item():.4f}, Validation Accuracy={val_acc:.4f}\")\n",
    "\n",
    "# Plot training loss and validation accuracy\n",
    "plt.figure(figsize=(12, 5))\n",
    "\n",
    "plt.subplot(1, 2, 1)\n",
    "plt.plot(train_loss_list, label='Train Loss')\n",
    "plt.xlabel('Epoch')\n",
    "plt.ylabel('Loss')\n",
    "plt.legend()\n",
    "plt.title('Loss over Epochs')\n",
    "\n",
    "plt.subplot(1, 2, 2)\n",
    "plt.plot(validation_accuracy_list, label='Validation Accuracy')\n",
    "plt.xlabel('Epoch')\n",
    "plt.ylabel('Accuracy')\n",
    "plt.legend()\n",
    "plt.title('Accuracy over Epochs')"
   ]
  },
  {
   "cell_type": "code",
   "execution_count": 7,
   "metadata": {},
   "outputs": [
    {
     "name": "stdout",
     "output_type": "stream",
     "text": [
      "Test Accuracy: 87.50%\n"
     ]
    }
   ],
   "source": [
    "# Telling PyTorch we aren't passing inputs to network for training purpose\n",
    "with torch.no_grad():\n",
    "    \n",
    "    for test_features, test_labels in test_batches:\n",
    "\n",
    "        model.eval()\n",
    "        # Reshape test images into a vector\n",
    "        test_features = test_features.reshape(-1, 28*28)\n",
    "        test_output = model(test_features)\n",
    "        y_pred = torch.argmax(test_output,dim=1)\n",
    "\n",
    "         # Compute validation outputs (targets) \n",
    "         # and compute accuracy \n",
    "    accuracy = (y_pred == test_labels).float().mean().item() * 100\n",
    "    print(f\"Test Accuracy: {accuracy:.2f}%\")\n",
    "    # Compute total (mean) accuracy\n",
    "    # Report total (mean) accuracy, can also compute std based on batches"
   ]
  },
  {
   "cell_type": "code",
   "execution_count": 5,
   "metadata": {},
   "outputs": [],
   "source": [
    "class PyTorchClassifierWithTorchvision(BaseEstimator, ClassifierMixin):\n",
    "    def __init__(self, hidden_layers=(480, 100), batch_size=64, epochs=100, lr=0.125, optimizer='adam'):\n",
    "        self.hidden_layers = hidden_layers\n",
    "        self.batch_size = batch_size\n",
    "        self.epochs = epochs\n",
    "        self.lr = lr\n",
    "        self.optimizer = optimizer\n",
    "        self.model = None\n",
    "        self.train_losses = []\n",
    "        self.val_losses = []\n",
    "        self.val_accuracies = []\n",
    "#ACAIGFCN(input_dim = 784, output_dim = 10, inner_layers= [480,100])\n",
    "    def fit(self, train_batches, val_batches, input_dim=784, output_dim=10):\n",
    "        \"\"\" Train model using torchvision dataset. \"\"\"\n",
    "        self.model = ACAIGFCN(input_dim,output_dim, self.hidden_layers)\n",
    "        criterion = nn.CrossEntropyLoss()\n",
    "\n",
    "        if self.optimizer == 'adam':\n",
    "            optimizer = optim.Adam(self.model.parameters(), lr=self.lr)\n",
    "        elif self.optimizer == 'rmsprop':\n",
    "            optimizer = optim.RMSprop(self.model.parameters(), lr=self.lr)\n",
    "        elif self.optimizer == 'sgd':\n",
    "            optimizer = optim.SGD(self.model.parameters(), lr=self.lr)\n",
    "\n",
    "        for epoch in range(self.epochs):\n",
    "            self.model.train()\n",
    "            train_loss = 0\n",
    "            #for batch_X, batch_y in train_loader:\n",
    "            for train_features, train_labels in train_batches:\n",
    "                train_features = train_features.view(train_features.size(0), -1)  # Flatten images\n",
    "                optimizer.zero_grad()\n",
    "                output = self.model(train_features)\n",
    "                loss = criterion(output, train_labels)\n",
    "                loss.backward()\n",
    "                optimizer.step()\n",
    "                train_loss += loss.item()\n",
    "\n",
    "            self.train_losses.append(train_loss / len(train_batches))\n",
    "\n",
    "            # Validation Phase\n",
    "            self.model.eval()\n",
    "            val_loss = 0\n",
    "            correct = 0\n",
    "            total = 0\n",
    "            with torch.no_grad():\n",
    "                #for batch_X, batch_y in val_loader:\n",
    "                for val_features, val_labels in val_batches:\n",
    "                    val_features = val_features.view(val_features.size(0), -1)\n",
    "                    output = self.model(val_features)\n",
    "                    loss = criterion(output, val_labels)\n",
    "                    val_loss += loss.item()\n",
    "                    preds = torch.argmax(output, dim=1)\n",
    "                    correct += (preds == val_labels).sum().item()\n",
    "                    total += val_labels.size(0)\n",
    "\n",
    "            self.val_losses.append(val_loss / len(val_batches))\n",
    "            self.val_accuracies.append(correct / total)\n",
    "\n",
    "            print(f\"Epoch {epoch+1}/{self.epochs}: Train Loss = {self.train_losses[-1]:.4f}, \"\n",
    "                  f\"Val Loss = {self.val_losses[-1]:.4f}, Val Acc = {self.val_accuracies[-1]:.4f}\")\n",
    "\n",
    "        return self\n",
    "\n",
    "    def score(self, test_batches):\n",
    "        \"\"\" Compute accuracy on the test dataset. \"\"\"\n",
    "        self.model.eval()\n",
    "        correct = 0\n",
    "        total = 0\n",
    "        with torch.no_grad():\n",
    "            #for batch_X, batch_y in test_loader:\n",
    "            for test_features, test_labels in test_batches:\n",
    "                test_features = test_features.view(test_features.size(0), -1)\n",
    "                output = self.model(test_features)\n",
    "                preds = torch.argmax(output, dim=1)\n",
    "                correct += (preds == test_labels).sum().item()\n",
    "                total += test_labels.size(0)\n",
    "        return correct / total\n",
    "\n",
    "    def plot_training_history(self):\n",
    "        \"\"\" Plot training and validation metrics. \"\"\"\n",
    "        epochs = range(1, self.epochs + 1)\n",
    "        plt.figure(figsize=(12, 5))\n",
    "\n",
    "        plt.subplot(1, 2, 1)\n",
    "        plt.plot(epochs, self.train_losses, label='Train Loss', marker='o')\n",
    "        plt.plot(epochs, self.val_losses, label='Validation Loss', marker='o')\n",
    "        plt.xlabel('Epochs')\n",
    "        plt.ylabel('Loss')\n",
    "        plt.title('Training vs Validation Loss')\n",
    "        plt.legend()\n",
    "\n",
    "        plt.subplot(1, 2, 2)\n",
    "        plt.plot(epochs, self.val_accuracies, label='Validation Accuracy', marker='o', color='green')\n",
    "        plt.xlabel('Epochs')\n",
    "        plt.ylabel('Accuracy')\n",
    "        plt.title('Validation Accuracy')\n",
    "        plt.legend()\n",
    "\n",
    "        plt.show()\n"
   ]
  },
  {
   "cell_type": "code",
   "execution_count": 25,
   "metadata": {},
   "outputs": [
    {
     "name": "stdout",
     "output_type": "stream",
     "text": [
      "Epoch 1/100: Train Loss = 43.9791, Val Loss = 2.2184, Val Acc = 0.3175\n",
      "Epoch 2/100: Train Loss = 2.6024, Val Loss = 1.7923, Val Acc = 0.4213\n",
      "Epoch 3/100: Train Loss = 1.7819, Val Loss = 1.7706, Val Acc = 0.4073\n",
      "Epoch 4/100: Train Loss = 1.6763, Val Loss = 1.8894, Val Acc = 0.2843\n",
      "Epoch 5/100: Train Loss = 1.7922, Val Loss = 1.8544, Val Acc = 0.2978\n",
      "Epoch 6/100: Train Loss = 1.6797, Val Loss = 1.6678, Val Acc = 0.3145\n",
      "Epoch 7/100: Train Loss = 1.6331, Val Loss = 1.6816, Val Acc = 0.3307\n",
      "Epoch 8/100: Train Loss = 1.7771, Val Loss = 2.5592, Val Acc = 0.2958\n",
      "Epoch 9/100: Train Loss = 1.8608, Val Loss = 1.7737, Val Acc = 0.2772\n",
      "Epoch 10/100: Train Loss = 1.9577, Val Loss = 1.9618, Val Acc = 0.1992\n",
      "Epoch 11/100: Train Loss = 2.0103, Val Loss = 1.9500, Val Acc = 0.2103\n",
      "Epoch 12/100: Train Loss = 1.9897, Val Loss = 2.0150, Val Acc = 0.1993\n",
      "Epoch 13/100: Train Loss = 1.9663, Val Loss = 1.9505, Val Acc = 0.1982\n",
      "Epoch 14/100: Train Loss = 2.0053, Val Loss = 1.9203, Val Acc = 0.1970\n",
      "Epoch 15/100: Train Loss = 1.9456, Val Loss = 1.9586, Val Acc = 0.1898\n",
      "Epoch 16/100: Train Loss = 1.9468, Val Loss = 1.9286, Val Acc = 0.1983\n",
      "Epoch 17/100: Train Loss = 2.1106, Val Loss = 1.9680, Val Acc = 0.1875\n",
      "Epoch 18/100: Train Loss = 1.9523, Val Loss = 1.9208, Val Acc = 0.1967\n",
      "Epoch 19/100: Train Loss = 1.9262, Val Loss = 1.9111, Val Acc = 0.1942\n",
      "Epoch 20/100: Train Loss = 1.9136, Val Loss = 1.8340, Val Acc = 0.1955\n",
      "Epoch 21/100: Train Loss = 1.8649, Val Loss = 1.7908, Val Acc = 0.1930\n",
      "Epoch 22/100: Train Loss = 2.3492, Val Loss = 2.3063, Val Acc = 0.1000\n",
      "Epoch 23/100: Train Loss = 2.3067, Val Loss = 2.3066, Val Acc = 0.1000\n",
      "Epoch 24/100: Train Loss = 2.3061, Val Loss = 2.3052, Val Acc = 0.1000\n",
      "Epoch 25/100: Train Loss = 2.3056, Val Loss = 2.3059, Val Acc = 0.1000\n",
      "Epoch 26/100: Train Loss = 2.3062, Val Loss = 2.3047, Val Acc = 0.1000\n",
      "Epoch 27/100: Train Loss = 2.3057, Val Loss = 2.3062, Val Acc = 0.1000\n",
      "Epoch 28/100: Train Loss = 2.3059, Val Loss = 2.3064, Val Acc = 0.1000\n",
      "Epoch 29/100: Train Loss = 2.3054, Val Loss = 2.3069, Val Acc = 0.1000\n",
      "Epoch 30/100: Train Loss = 2.3054, Val Loss = 2.3093, Val Acc = 0.1000\n",
      "Epoch 31/100: Train Loss = 2.3061, Val Loss = 2.3070, Val Acc = 0.1000\n",
      "Epoch 32/100: Train Loss = 2.3055, Val Loss = 2.3060, Val Acc = 0.1000\n",
      "Epoch 33/100: Train Loss = 2.3063, Val Loss = 2.3049, Val Acc = 0.1000\n",
      "Epoch 34/100: Train Loss = 2.3058, Val Loss = 2.3058, Val Acc = 0.1000\n",
      "Epoch 35/100: Train Loss = 2.3061, Val Loss = 2.3055, Val Acc = 0.1000\n",
      "Epoch 36/100: Train Loss = 2.3068, Val Loss = 2.3068, Val Acc = 0.1000\n",
      "Epoch 37/100: Train Loss = 2.3052, Val Loss = 2.3052, Val Acc = 0.1000\n",
      "Epoch 38/100: Train Loss = 2.3059, Val Loss = 2.3069, Val Acc = 0.1000\n",
      "Epoch 39/100: Train Loss = 2.3072, Val Loss = 2.3054, Val Acc = 0.1000\n",
      "Epoch 40/100: Train Loss = 2.3067, Val Loss = 2.3089, Val Acc = 0.1000\n",
      "Epoch 41/100: Train Loss = 2.3065, Val Loss = 2.3045, Val Acc = 0.1000\n",
      "Epoch 42/100: Train Loss = 2.3063, Val Loss = 2.3039, Val Acc = 0.1000\n",
      "Epoch 43/100: Train Loss = 2.3063, Val Loss = 2.3046, Val Acc = 0.1000\n",
      "Epoch 44/100: Train Loss = 2.3071, Val Loss = 2.3039, Val Acc = 0.1000\n",
      "Epoch 45/100: Train Loss = 2.3060, Val Loss = 2.3059, Val Acc = 0.1000\n",
      "Epoch 46/100: Train Loss = 2.3066, Val Loss = 2.3105, Val Acc = 0.1000\n",
      "Epoch 47/100: Train Loss = 2.3069, Val Loss = 2.3068, Val Acc = 0.1000\n",
      "Epoch 48/100: Train Loss = 2.3057, Val Loss = 2.3045, Val Acc = 0.1000\n",
      "Epoch 49/100: Train Loss = 2.3062, Val Loss = 2.3045, Val Acc = 0.1000\n",
      "Epoch 50/100: Train Loss = 2.3058, Val Loss = 2.3047, Val Acc = 0.1000\n",
      "Epoch 51/100: Train Loss = 2.3060, Val Loss = 2.3068, Val Acc = 0.1000\n",
      "Epoch 52/100: Train Loss = 2.3058, Val Loss = 2.3078, Val Acc = 0.1000\n",
      "Epoch 53/100: Train Loss = 2.3061, Val Loss = 2.3049, Val Acc = 0.1000\n",
      "Epoch 54/100: Train Loss = 2.3057, Val Loss = 2.3044, Val Acc = 0.1000\n",
      "Epoch 55/100: Train Loss = 2.3060, Val Loss = 2.3076, Val Acc = 0.1000\n",
      "Epoch 56/100: Train Loss = 2.3060, Val Loss = 2.3052, Val Acc = 0.1000\n",
      "Epoch 57/100: Train Loss = 2.3070, Val Loss = 2.3046, Val Acc = 0.1000\n",
      "Epoch 58/100: Train Loss = 2.3078, Val Loss = 2.3072, Val Acc = 0.1000\n",
      "Epoch 59/100: Train Loss = 2.3063, Val Loss = 2.3078, Val Acc = 0.1000\n",
      "Epoch 60/100: Train Loss = 2.3064, Val Loss = 2.3052, Val Acc = 0.1000\n",
      "Epoch 61/100: Train Loss = 2.3065, Val Loss = 2.3088, Val Acc = 0.1000\n",
      "Epoch 62/100: Train Loss = 2.3062, Val Loss = 2.3072, Val Acc = 0.1000\n",
      "Epoch 63/100: Train Loss = 2.3060, Val Loss = 2.3042, Val Acc = 0.1000\n",
      "Epoch 64/100: Train Loss = 2.3059, Val Loss = 2.3053, Val Acc = 0.1000\n",
      "Epoch 65/100: Train Loss = 2.3063, Val Loss = 2.3044, Val Acc = 0.1000\n",
      "Epoch 66/100: Train Loss = 2.3059, Val Loss = 2.3049, Val Acc = 0.1000\n",
      "Epoch 67/100: Train Loss = 2.3062, Val Loss = 2.3044, Val Acc = 0.1000\n",
      "Epoch 68/100: Train Loss = 2.3057, Val Loss = 2.3053, Val Acc = 0.1000\n",
      "Epoch 69/100: Train Loss = 2.3059, Val Loss = 2.3078, Val Acc = 0.1000\n",
      "Epoch 70/100: Train Loss = 2.3065, Val Loss = 2.3087, Val Acc = 0.1000\n",
      "Epoch 71/100: Train Loss = 2.3071, Val Loss = 2.3076, Val Acc = 0.1000\n",
      "Epoch 72/100: Train Loss = 2.3060, Val Loss = 2.3089, Val Acc = 0.1000\n",
      "Epoch 73/100: Train Loss = 2.3072, Val Loss = 2.3041, Val Acc = 0.1000\n",
      "Epoch 74/100: Train Loss = 2.3063, Val Loss = 2.3070, Val Acc = 0.1000\n",
      "Epoch 75/100: Train Loss = 2.3069, Val Loss = 2.3054, Val Acc = 0.1000\n",
      "Epoch 76/100: Train Loss = 2.3066, Val Loss = 2.3071, Val Acc = 0.1000\n",
      "Epoch 77/100: Train Loss = 2.3055, Val Loss = 2.3056, Val Acc = 0.1000\n",
      "Epoch 78/100: Train Loss = 2.3065, Val Loss = 2.3080, Val Acc = 0.1000\n",
      "Epoch 79/100: Train Loss = 2.3057, Val Loss = 2.3040, Val Acc = 0.1000\n",
      "Epoch 80/100: Train Loss = 2.3051, Val Loss = 2.3085, Val Acc = 0.1000\n",
      "Epoch 81/100: Train Loss = 2.3054, Val Loss = 2.3081, Val Acc = 0.1000\n",
      "Epoch 82/100: Train Loss = 2.3063, Val Loss = 2.3054, Val Acc = 0.1000\n",
      "Epoch 83/100: Train Loss = 2.3064, Val Loss = 2.3081, Val Acc = 0.1000\n",
      "Epoch 84/100: Train Loss = 2.3070, Val Loss = 2.3079, Val Acc = 0.1000\n",
      "Epoch 85/100: Train Loss = 2.3064, Val Loss = 2.3059, Val Acc = 0.1000\n",
      "Epoch 86/100: Train Loss = 2.3070, Val Loss = 2.3102, Val Acc = 0.1000\n",
      "Epoch 87/100: Train Loss = 2.3059, Val Loss = 2.3080, Val Acc = 0.1000\n",
      "Epoch 88/100: Train Loss = 2.3062, Val Loss = 2.3057, Val Acc = 0.1000\n",
      "Epoch 89/100: Train Loss = 2.3055, Val Loss = 2.3064, Val Acc = 0.1000\n",
      "Epoch 90/100: Train Loss = 2.3060, Val Loss = 2.3047, Val Acc = 0.1000\n",
      "Epoch 91/100: Train Loss = 2.3066, Val Loss = 2.3081, Val Acc = 0.1000\n",
      "Epoch 92/100: Train Loss = 2.3069, Val Loss = 2.3071, Val Acc = 0.1000\n",
      "Epoch 93/100: Train Loss = 2.3062, Val Loss = 2.3053, Val Acc = 0.1000\n",
      "Epoch 94/100: Train Loss = 2.3058, Val Loss = 2.3068, Val Acc = 0.1000\n",
      "Epoch 95/100: Train Loss = 2.3074, Val Loss = 2.3043, Val Acc = 0.1000\n",
      "Epoch 96/100: Train Loss = 2.3068, Val Loss = 2.3066, Val Acc = 0.1000\n",
      "Epoch 97/100: Train Loss = 2.3065, Val Loss = 2.3059, Val Acc = 0.1000\n",
      "Epoch 98/100: Train Loss = 2.3066, Val Loss = 2.3050, Val Acc = 0.1000\n",
      "Epoch 99/100: Train Loss = 2.3059, Val Loss = 2.3044, Val Acc = 0.1000\n",
      "Epoch 100/100: Train Loss = 2.3064, Val Loss = 2.3053, Val Acc = 0.1000\n",
      "Test Accuracy: 10.00%\n"
     ]
    },
    {
     "data": {
      "image/png": "[encoded data removed]",
      "text/plain": [
       "<Figure size 1200x500 with 2 Axes>"
      ]
     },
     "metadata": {},
     "output_type": "display_data"
    }
   ],
   "source": [
    "# Initialize classifier\n",
    "classifier = PyTorchClassifierWithTorchvision(hidden_layers=(480, 100), batch_size=64, epochs=100, lr=0.125, optimizer='adam')\n",
    "\n",
    "# Train model on torchvision dataset\n",
    "classifier.fit(train_batches, val_batches, input_dim=784, output_dim=10)\n",
    "\n",
    "# Evaluate on test dataset\n",
    "test_accuracy = classifier.score(test_batches)\n",
    "print(f\"Test Accuracy: {test_accuracy * 100:.2f}%\")\n",
    "\n",
    "# Plot training history\n",
    "classifier.plot_training_history()\n"
   ]
  },
  {
   "cell_type": "code",
   "execution_count": 26,
   "metadata": {},
   "outputs": [
    {
     "name": "stdout",
     "output_type": "stream",
     "text": [
      "Epoch 1/100: Train Loss = 34917.8458, Val Loss = 19.1770, Val Acc = 0.2152\n",
      "Epoch 2/100: Train Loss = 6.9928, Val Loss = 4.5635, Val Acc = 0.1983\n",
      "Epoch 3/100: Train Loss = 3.0652, Val Loss = 7.6365, Val Acc = 0.1857\n",
      "Epoch 4/100: Train Loss = 3.9175, Val Loss = 4.3217, Val Acc = 0.1865\n",
      "Epoch 5/100: Train Loss = 2.2442, Val Loss = 4.1889, Val Acc = 0.1930\n",
      "Epoch 6/100: Train Loss = 2.2044, Val Loss = 4.0090, Val Acc = 0.1472\n",
      "Epoch 7/100: Train Loss = 2.1361, Val Loss = 3.9798, Val Acc = 0.1862\n",
      "Epoch 8/100: Train Loss = 2.2338, Val Loss = 3.9339, Val Acc = 0.1545\n",
      "Epoch 9/100: Train Loss = 2.0853, Val Loss = 3.8553, Val Acc = 0.1955\n",
      "Epoch 10/100: Train Loss = 4.6772, Val Loss = 5.5348, Val Acc = 0.1120\n",
      "Epoch 11/100: Train Loss = 2.3904, Val Loss = 7.8054, Val Acc = 0.1088\n",
      "Epoch 12/100: Train Loss = 2.3412, Val Loss = 8.1889, Val Acc = 0.1002\n",
      "Epoch 13/100: Train Loss = 2.2889, Val Loss = 8.4173, Val Acc = 0.1090\n",
      "Epoch 14/100: Train Loss = 2.2887, Val Loss = 10.2680, Val Acc = 0.1090\n",
      "Epoch 15/100: Train Loss = 2.2888, Val Loss = 8.1872, Val Acc = 0.1090\n",
      "Epoch 16/100: Train Loss = 2.2886, Val Loss = 8.1812, Val Acc = 0.1087\n",
      "Epoch 17/100: Train Loss = 2.2888, Val Loss = 8.1794, Val Acc = 0.1090\n",
      "Epoch 18/100: Train Loss = 2.2887, Val Loss = 10.2591, Val Acc = 0.1002\n",
      "Epoch 19/100: Train Loss = 2.2884, Val Loss = 8.1936, Val Acc = 0.1090\n",
      "Epoch 20/100: Train Loss = 2.2888, Val Loss = 8.1939, Val Acc = 0.1090\n",
      "Epoch 21/100: Train Loss = 2.2885, Val Loss = 10.2579, Val Acc = 0.1090\n",
      "Epoch 22/100: Train Loss = 2.2888, Val Loss = 8.1850, Val Acc = 0.1088\n",
      "Epoch 23/100: Train Loss = 2.2882, Val Loss = 8.1853, Val Acc = 0.1090\n",
      "Epoch 24/100: Train Loss = 2.2886, Val Loss = 8.1854, Val Acc = 0.1090\n",
      "Epoch 25/100: Train Loss = 2.2890, Val Loss = 8.1849, Val Acc = 0.1090\n",
      "Epoch 26/100: Train Loss = 2.2888, Val Loss = 8.1787, Val Acc = 0.1087\n",
      "Epoch 27/100: Train Loss = 2.2887, Val Loss = 8.1871, Val Acc = 0.1090\n",
      "Epoch 28/100: Train Loss = 1484.8936, Val Loss = 31.5547, Val Acc = 0.1128\n",
      "Epoch 29/100: Train Loss = 3.0635, Val Loss = 5.7478, Val Acc = 0.1122\n",
      "Epoch 30/100: Train Loss = 2.3101, Val Loss = 2.6042, Val Acc = 0.1120\n",
      "Epoch 31/100: Train Loss = 2.2803, Val Loss = 2.6056, Val Acc = 0.1120\n",
      "Epoch 32/100: Train Loss = 2.2803, Val Loss = 2.6032, Val Acc = 0.1120\n",
      "Epoch 33/100: Train Loss = 2.2801, Val Loss = 2.6100, Val Acc = 0.1120\n",
      "Epoch 34/100: Train Loss = 2.2814, Val Loss = 2.6070, Val Acc = 0.1120\n",
      "Epoch 35/100: Train Loss = 2.2800, Val Loss = 2.6048, Val Acc = 0.1120\n",
      "Epoch 36/100: Train Loss = 2.2805, Val Loss = 2.6170, Val Acc = 0.1120\n",
      "Epoch 37/100: Train Loss = 2.2804, Val Loss = 2.6040, Val Acc = 0.1120\n",
      "Epoch 38/100: Train Loss = 2.2801, Val Loss = 2.6060, Val Acc = 0.1120\n",
      "Epoch 39/100: Train Loss = 2.2806, Val Loss = 2.6126, Val Acc = 0.1120\n",
      "Epoch 40/100: Train Loss = 2.2802, Val Loss = 2.6126, Val Acc = 0.1120\n",
      "Epoch 41/100: Train Loss = 2.2811, Val Loss = 2.6069, Val Acc = 0.1120\n",
      "Epoch 42/100: Train Loss = 2.2799, Val Loss = 2.6190, Val Acc = 0.1120\n",
      "Epoch 43/100: Train Loss = 2.2806, Val Loss = 2.6024, Val Acc = 0.1120\n",
      "Epoch 44/100: Train Loss = 2.2811, Val Loss = 2.6092, Val Acc = 0.1117\n",
      "Epoch 45/100: Train Loss = 2.2808, Val Loss = 2.6061, Val Acc = 0.1120\n",
      "Epoch 46/100: Train Loss = 2.2804, Val Loss = 2.6057, Val Acc = 0.1120\n",
      "Epoch 47/100: Train Loss = 2.2813, Val Loss = 2.6088, Val Acc = 0.1120\n",
      "Epoch 48/100: Train Loss = 2.2801, Val Loss = 2.6249, Val Acc = 0.1120\n",
      "Epoch 49/100: Train Loss = 2.2803, Val Loss = 2.6187, Val Acc = 0.1120\n",
      "Epoch 50/100: Train Loss = 2.8960, Val Loss = 2.3204, Val Acc = 0.1000\n",
      "Epoch 51/100: Train Loss = 2.3074, Val Loss = 2.3139, Val Acc = 0.1003\n",
      "Epoch 52/100: Train Loss = 2.3075, Val Loss = 2.3218, Val Acc = 0.1003\n",
      "Epoch 53/100: Train Loss = 2.3073, Val Loss = 2.3127, Val Acc = 0.1003\n",
      "Epoch 54/100: Train Loss = 2.3075, Val Loss = 2.3087, Val Acc = 0.1003\n",
      "Epoch 55/100: Train Loss = 2.3070, Val Loss = 2.3139, Val Acc = 0.1003\n",
      "Epoch 56/100: Train Loss = 2.3070, Val Loss = 2.3156, Val Acc = 0.1003\n",
      "Epoch 57/100: Train Loss = 2.3072, Val Loss = 2.3148, Val Acc = 0.1003\n",
      "Epoch 58/100: Train Loss = 2.3069, Val Loss = 2.3183, Val Acc = 0.1000\n",
      "Epoch 59/100: Train Loss = 2.3073, Val Loss = 2.3076, Val Acc = 0.1003\n",
      "Epoch 60/100: Train Loss = 2.3070, Val Loss = 2.3189, Val Acc = 0.1003\n",
      "Epoch 61/100: Train Loss = 2.3072, Val Loss = 2.3034, Val Acc = 0.1003\n",
      "Epoch 62/100: Train Loss = 2.3083, Val Loss = 2.3067, Val Acc = 0.1003\n",
      "Epoch 63/100: Train Loss = 2.3073, Val Loss = 2.3051, Val Acc = 0.1000\n",
      "Epoch 64/100: Train Loss = 2.3071, Val Loss = 2.3176, Val Acc = 0.1003\n",
      "Epoch 65/100: Train Loss = 2.3070, Val Loss = 2.3185, Val Acc = 0.1003\n",
      "Epoch 66/100: Train Loss = 2.3068, Val Loss = 2.3159, Val Acc = 0.1003\n",
      "Epoch 67/100: Train Loss = 2.3075, Val Loss = 2.3097, Val Acc = 0.1003\n",
      "Epoch 68/100: Train Loss = 2.3072, Val Loss = 2.3182, Val Acc = 0.1000\n",
      "Epoch 69/100: Train Loss = 2.3072, Val Loss = 2.3112, Val Acc = 0.1003\n",
      "Epoch 70/100: Train Loss = 2.3080, Val Loss = 2.3199, Val Acc = 0.1003\n",
      "Epoch 71/100: Train Loss = 2.3072, Val Loss = 2.3108, Val Acc = 0.1003\n",
      "Epoch 72/100: Train Loss = 2.3069, Val Loss = 2.3103, Val Acc = 0.1003\n",
      "Epoch 73/100: Train Loss = 2.3070, Val Loss = 2.3169, Val Acc = 0.1003\n",
      "Epoch 74/100: Train Loss = 2.3072, Val Loss = 2.3082, Val Acc = 0.1003\n",
      "Epoch 75/100: Train Loss = 2.3066, Val Loss = 2.3114, Val Acc = 0.1003\n",
      "Epoch 76/100: Train Loss = 2.3077, Val Loss = 2.3058, Val Acc = 0.1003\n",
      "Epoch 77/100: Train Loss = 2.3075, Val Loss = 2.3071, Val Acc = 0.1003\n",
      "Epoch 78/100: Train Loss = 2.3076, Val Loss = 2.3077, Val Acc = 0.1003\n",
      "Epoch 79/100: Train Loss = 2.3073, Val Loss = 2.3110, Val Acc = 0.1003\n",
      "Epoch 80/100: Train Loss = 2.3070, Val Loss = 2.3105, Val Acc = 0.1003\n",
      "Epoch 81/100: Train Loss = 2.3072, Val Loss = 2.3089, Val Acc = 0.1003\n",
      "Epoch 82/100: Train Loss = 2.3074, Val Loss = 2.3083, Val Acc = 0.1003\n",
      "Epoch 83/100: Train Loss = 2.3074, Val Loss = 2.3126, Val Acc = 0.1003\n",
      "Epoch 84/100: Train Loss = 2.3073, Val Loss = 2.3094, Val Acc = 0.1003\n",
      "Epoch 85/100: Train Loss = 2.3072, Val Loss = 2.3198, Val Acc = 0.1003\n",
      "Epoch 86/100: Train Loss = 2.3072, Val Loss = 2.3168, Val Acc = 0.1003\n",
      "Epoch 87/100: Train Loss = 2.3072, Val Loss = 2.3179, Val Acc = 0.1000\n",
      "Epoch 88/100: Train Loss = 2.3074, Val Loss = 2.3120, Val Acc = 0.1003\n",
      "Epoch 89/100: Train Loss = 2.3073, Val Loss = 2.3100, Val Acc = 0.1000\n",
      "Epoch 90/100: Train Loss = 2.3065, Val Loss = 2.3150, Val Acc = 0.1003\n",
      "Epoch 91/100: Train Loss = 2.3075, Val Loss = 2.3047, Val Acc = 0.1003\n",
      "Epoch 92/100: Train Loss = 2.3078, Val Loss = 2.3093, Val Acc = 0.1003\n",
      "Epoch 93/100: Train Loss = 2.3065, Val Loss = 2.3087, Val Acc = 0.1003\n",
      "Epoch 94/100: Train Loss = 2.3071, Val Loss = 2.3105, Val Acc = 0.1003\n",
      "Epoch 95/100: Train Loss = 2.3070, Val Loss = 2.3126, Val Acc = 0.1003\n",
      "Epoch 96/100: Train Loss = 2.3074, Val Loss = 2.3222, Val Acc = 0.1003\n",
      "Epoch 97/100: Train Loss = 2.3066, Val Loss = 2.3184, Val Acc = 0.1003\n",
      "Epoch 98/100: Train Loss = 2.3071, Val Loss = 2.3215, Val Acc = 0.1003\n",
      "Epoch 99/100: Train Loss = 2.3074, Val Loss = 2.3111, Val Acc = 0.1003\n",
      "Epoch 100/100: Train Loss = 2.3073, Val Loss = 2.3151, Val Acc = 0.1003\n",
      "Test Accuracy RMSProp: 10.05%\n"
     ]
    },
    {
     "data": {
      "image/png": "[encoded data removed]",
      "text/plain": [
       "<Figure size 1200x500 with 2 Axes>"
      ]
     },
     "metadata": {},
     "output_type": "display_data"
    }
   ],
   "source": [
    "# Initialize classifier\n",
    "classifier = PyTorchClassifierWithTorchvision(hidden_layers=(480, 100), batch_size=64, epochs=100, lr=0.125,  optimizer='rmsprop')\n",
    "\n",
    "# Train model on torchvision dataset\n",
    "classifier.fit(train_batches, val_batches, input_dim=784, output_dim=10)\n",
    "\n",
    "# Evaluate on test dataset\n",
    "test_accuracy = classifier.score(test_batches)\n",
    "print(f\"Test Accuracy RMSProp: {test_accuracy * 100:.2f}%\")\n",
    "\n",
    "# Plot training history\n",
    "classifier.plot_training_history()"
   ]
  },
  {
   "cell_type": "code",
   "execution_count": 27,
   "metadata": {},
   "outputs": [
    {
     "name": "stdout",
     "output_type": "stream",
     "text": [
      "Epoch 1/100: Train Loss = 0.8684, Val Loss = 0.5542, Val Acc = 0.8040\n",
      "Epoch 2/100: Train Loss = 0.5151, Val Loss = 0.4890, Val Acc = 0.8240\n",
      "Epoch 3/100: Train Loss = 0.4501, Val Loss = 0.4487, Val Acc = 0.8358\n",
      "Epoch 4/100: Train Loss = 0.4074, Val Loss = 0.4265, Val Acc = 0.8442\n",
      "Epoch 5/100: Train Loss = 0.3836, Val Loss = 0.4191, Val Acc = 0.8418\n",
      "Epoch 6/100: Train Loss = 0.3663, Val Loss = 0.3566, Val Acc = 0.8722\n",
      "Epoch 7/100: Train Loss = 0.3493, Val Loss = 0.3544, Val Acc = 0.8747\n",
      "Epoch 8/100: Train Loss = 0.3373, Val Loss = 0.3430, Val Acc = 0.8787\n",
      "Epoch 9/100: Train Loss = 0.3236, Val Loss = 0.3411, Val Acc = 0.8783\n",
      "Epoch 10/100: Train Loss = 0.3165, Val Loss = 0.3233, Val Acc = 0.8828\n",
      "Epoch 11/100: Train Loss = 0.3038, Val Loss = 0.3581, Val Acc = 0.8647\n",
      "Epoch 12/100: Train Loss = 0.2962, Val Loss = 0.3129, Val Acc = 0.8867\n",
      "Epoch 13/100: Train Loss = 0.2900, Val Loss = 0.3267, Val Acc = 0.8848\n",
      "Epoch 14/100: Train Loss = 0.2810, Val Loss = 0.3420, Val Acc = 0.8782\n",
      "Epoch 15/100: Train Loss = 0.2774, Val Loss = 0.3114, Val Acc = 0.8877\n",
      "Epoch 16/100: Train Loss = 0.2678, Val Loss = 0.3290, Val Acc = 0.8830\n",
      "Epoch 17/100: Train Loss = 0.2642, Val Loss = 0.3269, Val Acc = 0.8812\n",
      "Epoch 18/100: Train Loss = 0.2548, Val Loss = 0.3006, Val Acc = 0.8938\n",
      "Epoch 19/100: Train Loss = 0.2489, Val Loss = 0.3175, Val Acc = 0.8865\n",
      "Epoch 20/100: Train Loss = 0.2416, Val Loss = 0.2962, Val Acc = 0.8958\n",
      "Epoch 21/100: Train Loss = 0.2368, Val Loss = 0.2903, Val Acc = 0.8987\n",
      "Epoch 22/100: Train Loss = 0.2331, Val Loss = 0.3385, Val Acc = 0.8767\n",
      "Epoch 23/100: Train Loss = 0.2300, Val Loss = 0.3136, Val Acc = 0.8883\n",
      "Epoch 24/100: Train Loss = 0.2231, Val Loss = 0.3013, Val Acc = 0.8957\n",
      "Epoch 25/100: Train Loss = 0.2207, Val Loss = 0.3252, Val Acc = 0.8832\n",
      "Epoch 26/100: Train Loss = 0.2151, Val Loss = 0.3450, Val Acc = 0.8775\n",
      "Epoch 27/100: Train Loss = 0.2118, Val Loss = 0.3256, Val Acc = 0.8853\n",
      "Epoch 28/100: Train Loss = 0.2069, Val Loss = 0.2893, Val Acc = 0.8985\n",
      "Epoch 29/100: Train Loss = 0.2032, Val Loss = 0.3197, Val Acc = 0.8888\n",
      "Epoch 30/100: Train Loss = 0.2013, Val Loss = 0.2822, Val Acc = 0.9018\n",
      "Epoch 31/100: Train Loss = 0.1933, Val Loss = 0.2952, Val Acc = 0.8967\n",
      "Epoch 32/100: Train Loss = 0.1896, Val Loss = 0.2828, Val Acc = 0.9007\n",
      "Epoch 33/100: Train Loss = 0.1901, Val Loss = 0.3761, Val Acc = 0.8615\n",
      "Epoch 34/100: Train Loss = 0.1823, Val Loss = 0.3326, Val Acc = 0.8842\n",
      "Epoch 35/100: Train Loss = 0.1771, Val Loss = 0.2832, Val Acc = 0.9020\n",
      "Epoch 36/100: Train Loss = 0.1801, Val Loss = 0.4689, Val Acc = 0.8438\n",
      "Epoch 37/100: Train Loss = 0.1906, Val Loss = 0.2867, Val Acc = 0.9012\n",
      "Epoch 38/100: Train Loss = 0.1680, Val Loss = 0.3073, Val Acc = 0.8940\n",
      "Epoch 39/100: Train Loss = 0.1660, Val Loss = 0.2848, Val Acc = 0.9025\n",
      "Epoch 40/100: Train Loss = 0.1641, Val Loss = 0.3173, Val Acc = 0.8945\n",
      "Epoch 41/100: Train Loss = 0.1617, Val Loss = 0.3285, Val Acc = 0.8917\n",
      "Epoch 42/100: Train Loss = 0.1581, Val Loss = 0.3109, Val Acc = 0.8933\n",
      "Epoch 43/100: Train Loss = 0.1506, Val Loss = 0.2984, Val Acc = 0.8985\n",
      "Epoch 44/100: Train Loss = 0.1514, Val Loss = 0.3225, Val Acc = 0.8980\n",
      "Epoch 45/100: Train Loss = 0.1507, Val Loss = 0.3268, Val Acc = 0.8918\n",
      "Epoch 46/100: Train Loss = 0.1420, Val Loss = 0.3095, Val Acc = 0.8980\n",
      "Epoch 47/100: Train Loss = 0.1426, Val Loss = 0.3147, Val Acc = 0.8922\n",
      "Epoch 48/100: Train Loss = 0.1413, Val Loss = 0.2929, Val Acc = 0.9058\n",
      "Epoch 49/100: Train Loss = 0.1321, Val Loss = 0.3001, Val Acc = 0.9023\n",
      "Epoch 50/100: Train Loss = 0.1359, Val Loss = 0.3014, Val Acc = 0.9022\n",
      "Epoch 51/100: Train Loss = 0.1305, Val Loss = 0.3026, Val Acc = 0.9030\n",
      "Epoch 52/100: Train Loss = 0.1214, Val Loss = 0.3250, Val Acc = 0.8947\n",
      "Epoch 53/100: Train Loss = 0.1203, Val Loss = 0.3272, Val Acc = 0.8945\n",
      "Epoch 54/100: Train Loss = 0.1257, Val Loss = 0.2916, Val Acc = 0.9048\n",
      "Epoch 55/100: Train Loss = 0.1228, Val Loss = 0.3682, Val Acc = 0.8812\n",
      "Epoch 56/100: Train Loss = 0.1202, Val Loss = 0.3436, Val Acc = 0.8880\n",
      "Epoch 57/100: Train Loss = 0.1131, Val Loss = 0.3116, Val Acc = 0.9022\n",
      "Epoch 58/100: Train Loss = 0.1116, Val Loss = 0.3398, Val Acc = 0.8965\n",
      "Epoch 59/100: Train Loss = 0.1578, Val Loss = 0.3427, Val Acc = 0.8917\n",
      "Epoch 60/100: Train Loss = 0.1278, Val Loss = 0.3285, Val Acc = 0.8977\n",
      "Epoch 61/100: Train Loss = 0.1173, Val Loss = 0.3025, Val Acc = 0.9047\n",
      "Epoch 62/100: Train Loss = 0.1138, Val Loss = 0.3144, Val Acc = 0.9023\n",
      "Epoch 63/100: Train Loss = 0.1092, Val Loss = 0.3050, Val Acc = 0.9050\n",
      "Epoch 64/100: Train Loss = 0.1047, Val Loss = 0.3228, Val Acc = 0.9045\n",
      "Epoch 65/100: Train Loss = 0.1003, Val Loss = 0.3229, Val Acc = 0.9007\n",
      "Epoch 66/100: Train Loss = 0.1000, Val Loss = 0.4380, Val Acc = 0.8718\n",
      "Epoch 67/100: Train Loss = 0.1053, Val Loss = 0.3649, Val Acc = 0.8960\n",
      "Epoch 68/100: Train Loss = 0.1064, Val Loss = 0.3319, Val Acc = 0.8995\n",
      "Epoch 69/100: Train Loss = 0.0886, Val Loss = 0.3249, Val Acc = 0.9063\n",
      "Epoch 70/100: Train Loss = 0.0962, Val Loss = 0.3398, Val Acc = 0.9058\n",
      "Epoch 71/100: Train Loss = 0.0873, Val Loss = 0.3418, Val Acc = 0.9045\n",
      "Epoch 72/100: Train Loss = 0.0881, Val Loss = 0.3701, Val Acc = 0.8972\n",
      "Epoch 73/100: Train Loss = 0.0985, Val Loss = 0.3799, Val Acc = 0.8923\n",
      "Epoch 74/100: Train Loss = 0.0910, Val Loss = 0.3388, Val Acc = 0.9025\n",
      "Epoch 75/100: Train Loss = 0.0901, Val Loss = 0.4530, Val Acc = 0.8828\n",
      "Epoch 76/100: Train Loss = 0.0792, Val Loss = 0.3719, Val Acc = 0.8953\n",
      "Epoch 77/100: Train Loss = 0.0744, Val Loss = 0.3886, Val Acc = 0.8895\n",
      "Epoch 78/100: Train Loss = 0.0791, Val Loss = 0.4288, Val Acc = 0.8857\n",
      "Epoch 79/100: Train Loss = 0.0699, Val Loss = 0.3838, Val Acc = 0.8950\n",
      "Epoch 80/100: Train Loss = 0.0655, Val Loss = 0.3788, Val Acc = 0.8948\n",
      "Epoch 81/100: Train Loss = 0.0648, Val Loss = 0.3515, Val Acc = 0.9053\n",
      "Epoch 82/100: Train Loss = 0.0632, Val Loss = 0.3711, Val Acc = 0.9032\n",
      "Epoch 83/100: Train Loss = 0.0879, Val Loss = 0.3430, Val Acc = 0.9052\n",
      "Epoch 84/100: Train Loss = 0.0667, Val Loss = 0.3603, Val Acc = 0.9055\n",
      "Epoch 85/100: Train Loss = 0.3172, Val Loss = 0.3429, Val Acc = 0.8952\n",
      "Epoch 86/100: Train Loss = 0.1419, Val Loss = 0.3608, Val Acc = 0.8890\n",
      "Epoch 87/100: Train Loss = 0.1081, Val Loss = 0.3580, Val Acc = 0.8968\n",
      "Epoch 88/100: Train Loss = 0.1011, Val Loss = 0.3719, Val Acc = 0.8953\n",
      "Epoch 89/100: Train Loss = 0.0926, Val Loss = 0.3495, Val Acc = 0.9050\n",
      "Epoch 90/100: Train Loss = 0.0823, Val Loss = 0.3880, Val Acc = 0.8943\n",
      "Epoch 91/100: Train Loss = 0.0824, Val Loss = 0.3949, Val Acc = 0.8887\n",
      "Epoch 92/100: Train Loss = 0.0842, Val Loss = 0.3774, Val Acc = 0.9015\n",
      "Epoch 93/100: Train Loss = 0.0693, Val Loss = 0.4608, Val Acc = 0.8865\n",
      "Epoch 94/100: Train Loss = 0.0732, Val Loss = 0.3976, Val Acc = 0.8997\n",
      "Epoch 95/100: Train Loss = 0.0633, Val Loss = 0.3937, Val Acc = 0.9010\n",
      "Epoch 96/100: Train Loss = 0.0755, Val Loss = 0.3594, Val Acc = 0.9052\n",
      "Epoch 97/100: Train Loss = 0.0628, Val Loss = 0.3924, Val Acc = 0.8985\n",
      "Epoch 98/100: Train Loss = 0.0671, Val Loss = 0.3773, Val Acc = 0.9027\n",
      "Epoch 99/100: Train Loss = 0.0647, Val Loss = 0.4306, Val Acc = 0.8932\n",
      "Epoch 100/100: Train Loss = 0.0528, Val Loss = 0.3800, Val Acc = 0.9043\n",
      "Test Accuracy RMSProp: 89.21%\n"
     ]
    },
    {
     "data": {
      "image/png": "[encoded data removed]",
      "text/plain": [
       "<Figure size 1200x500 with 2 Axes>"
      ]
     },
     "metadata": {},
     "output_type": "display_data"
    }
   ],
   "source": [
    "# Initialize classifier\n",
    "classifier = PyTorchClassifierWithTorchvision(hidden_layers=(480, 100), batch_size=64, epochs=100, lr=0.125,  optimizer='sgd')\n",
    "\n",
    "# Train model on torchvision dataset\n",
    "classifier.fit(train_batches, val_batches, input_dim=784, output_dim=10)\n",
    "\n",
    "# Evaluate on test dataset\n",
    "test_accuracy = classifier.score(test_batches)\n",
    "print(f\"Test Accuracy RMSProp: {test_accuracy * 100:.2f}%\")\n",
    "\n",
    "# Plot training history\n",
    "classifier.plot_training_history()"
   ]
  },
  {
   "cell_type": "code",
   "execution_count": 6,
   "metadata": {},
   "outputs": [],
   "source": [
    "from sklearn.model_selection import ParameterGrid\n",
    "\n",
    "# Define grid search parameters\n",
    "param_grid = {\n",
    "    'hidden_layers': [(480, 100)],  # Different hidden layer configurations\n",
    "    'lr': [0.001, 0.01, 0.1],                 # Learning rates to test\n",
    "    'optimizer': ['adam', 'rmsprop', 'sgd']   # Different optimizers\n",
    "}\n",
    "\n",
    "# Create all parameter combinations\n",
    "grid = list(ParameterGrid(param_grid))\n"
   ]
  },
  {
   "cell_type": "code",
   "execution_count": 7,
   "metadata": {},
   "outputs": [
    {
     "name": "stdout",
     "output_type": "stream",
     "text": [
      "\n",
      "Training with params: {'hidden_layers': (480, 100), 'lr': 0.001, 'optimizer': 'adam'}\n",
      "Epoch 1/50: Train Loss = 0.5867, Val Loss = 0.4097, Val Acc = 0.8600\n",
      "Epoch 2/50: Train Loss = 0.3764, Val Loss = 0.3729, Val Acc = 0.8627\n",
      "Epoch 3/50: Train Loss = 0.3355, Val Loss = 0.3423, Val Acc = 0.8768\n",
      "Epoch 4/50: Train Loss = 0.3061, Val Loss = 0.3421, Val Acc = 0.8760\n",
      "Epoch 5/50: Train Loss = 0.2851, Val Loss = 0.3062, Val Acc = 0.8872\n",
      "Epoch 6/50: Train Loss = 0.2687, Val Loss = 0.2977, Val Acc = 0.8877\n",
      "Epoch 7/50: Train Loss = 0.2536, Val Loss = 0.2972, Val Acc = 0.8928\n",
      "Epoch 8/50: Train Loss = 0.2405, Val Loss = 0.2912, Val Acc = 0.8907\n",
      "Epoch 9/50: Train Loss = 0.2248, Val Loss = 0.3096, Val Acc = 0.8875\n",
      "Epoch 10/50: Train Loss = 0.2098, Val Loss = 0.2789, Val Acc = 0.8993\n",
      "Epoch 11/50: Train Loss = 0.2016, Val Loss = 0.2932, Val Acc = 0.8958\n",
      "Epoch 12/50: Train Loss = 0.1953, Val Loss = 0.2977, Val Acc = 0.8903\n",
      "Epoch 13/50: Train Loss = 0.1875, Val Loss = 0.2839, Val Acc = 0.8960\n",
      "Epoch 14/50: Train Loss = 0.1782, Val Loss = 0.2783, Val Acc = 0.9028\n",
      "Epoch 15/50: Train Loss = 0.1759, Val Loss = 0.2963, Val Acc = 0.8963\n",
      "Epoch 16/50: Train Loss = 0.1589, Val Loss = 0.3038, Val Acc = 0.8978\n",
      "Epoch 17/50: Train Loss = 0.1515, Val Loss = 0.3019, Val Acc = 0.8962\n",
      "Epoch 18/50: Train Loss = 0.1483, Val Loss = 0.3373, Val Acc = 0.8920\n",
      "Epoch 19/50: Train Loss = 0.1437, Val Loss = 0.3165, Val Acc = 0.8962\n",
      "Epoch 20/50: Train Loss = 0.1325, Val Loss = 0.3199, Val Acc = 0.8958\n",
      "Epoch 21/50: Train Loss = 0.1253, Val Loss = 0.3256, Val Acc = 0.8987\n",
      "Epoch 22/50: Train Loss = 0.1207, Val Loss = 0.3512, Val Acc = 0.8907\n",
      "Epoch 23/50: Train Loss = 0.1153, Val Loss = 0.3384, Val Acc = 0.8960\n",
      "Epoch 24/50: Train Loss = 0.1116, Val Loss = 0.3542, Val Acc = 0.9000\n",
      "Epoch 25/50: Train Loss = 0.1062, Val Loss = 0.3498, Val Acc = 0.8965\n",
      "Epoch 26/50: Train Loss = 0.1022, Val Loss = 0.3695, Val Acc = 0.8947\n",
      "Epoch 27/50: Train Loss = 0.1012, Val Loss = 0.3701, Val Acc = 0.8970\n",
      "Epoch 28/50: Train Loss = 0.1030, Val Loss = 0.3734, Val Acc = 0.8985\n",
      "Epoch 29/50: Train Loss = 0.0945, Val Loss = 0.3832, Val Acc = 0.8938\n",
      "Epoch 30/50: Train Loss = 0.0942, Val Loss = 0.3884, Val Acc = 0.9017\n",
      "Epoch 31/50: Train Loss = 0.0899, Val Loss = 0.3995, Val Acc = 0.8932\n",
      "Epoch 32/50: Train Loss = 0.0830, Val Loss = 0.4064, Val Acc = 0.8948\n",
      "Epoch 33/50: Train Loss = 0.0814, Val Loss = 0.3989, Val Acc = 0.8983\n",
      "Epoch 34/50: Train Loss = 0.0761, Val Loss = 0.4095, Val Acc = 0.9017\n",
      "Epoch 35/50: Train Loss = 0.0750, Val Loss = 0.4498, Val Acc = 0.8955\n",
      "Epoch 36/50: Train Loss = 0.0664, Val Loss = 0.4594, Val Acc = 0.8938\n",
      "Epoch 37/50: Train Loss = 0.0703, Val Loss = 0.4265, Val Acc = 0.9000\n",
      "Epoch 38/50: Train Loss = 0.0676, Val Loss = 0.4629, Val Acc = 0.8927\n",
      "Epoch 39/50: Train Loss = 0.0611, Val Loss = 0.4451, Val Acc = 0.8993\n",
      "Epoch 40/50: Train Loss = 0.0619, Val Loss = 0.4904, Val Acc = 0.8937\n",
      "Epoch 41/50: Train Loss = 0.0642, Val Loss = 0.4674, Val Acc = 0.8980\n",
      "Epoch 42/50: Train Loss = 0.0586, Val Loss = 0.4993, Val Acc = 0.8928\n",
      "Epoch 43/50: Train Loss = 0.0577, Val Loss = 0.5022, Val Acc = 0.8955\n",
      "Epoch 44/50: Train Loss = 0.0485, Val Loss = 0.5193, Val Acc = 0.8895\n",
      "Epoch 45/50: Train Loss = 0.0542, Val Loss = 0.5042, Val Acc = 0.8970\n",
      "Epoch 46/50: Train Loss = 0.0555, Val Loss = 0.5249, Val Acc = 0.8898\n",
      "Epoch 47/50: Train Loss = 0.0555, Val Loss = 0.5429, Val Acc = 0.8903\n",
      "Epoch 48/50: Train Loss = 0.0507, Val Loss = 0.5381, Val Acc = 0.8935\n",
      "Epoch 49/50: Train Loss = 0.0493, Val Loss = 0.5358, Val Acc = 0.8965\n",
      "Epoch 50/50: Train Loss = 0.0396, Val Loss = 0.5555, Val Acc = 0.8903\n",
      "\n",
      "Training with params: {'hidden_layers': (480, 100), 'lr': 0.001, 'optimizer': 'rmsprop'}\n",
      "Epoch 1/50: Train Loss = 0.7615, Val Loss = 0.4713, Val Acc = 0.8180\n",
      "Epoch 2/50: Train Loss = 0.4087, Val Loss = 0.4370, Val Acc = 0.8388\n",
      "Epoch 3/50: Train Loss = 0.3573, Val Loss = 0.4389, Val Acc = 0.8345\n",
      "Epoch 4/50: Train Loss = 0.3299, Val Loss = 0.3999, Val Acc = 0.8603\n",
      "Epoch 5/50: Train Loss = 0.3070, Val Loss = 0.3182, Val Acc = 0.8827\n",
      "Epoch 6/50: Train Loss = 0.2882, Val Loss = 0.3205, Val Acc = 0.8855\n",
      "Epoch 7/50: Train Loss = 0.2741, Val Loss = 0.3444, Val Acc = 0.8705\n",
      "Epoch 8/50: Train Loss = 0.2592, Val Loss = 0.3127, Val Acc = 0.8878\n",
      "Epoch 9/50: Train Loss = 0.2481, Val Loss = 0.4016, Val Acc = 0.8468\n",
      "Epoch 10/50: Train Loss = 0.2374, Val Loss = 0.3603, Val Acc = 0.8750\n",
      "Epoch 11/50: Train Loss = 0.2208, Val Loss = 0.3115, Val Acc = 0.8877\n",
      "Epoch 12/50: Train Loss = 0.2159, Val Loss = 0.2913, Val Acc = 0.8967\n",
      "Epoch 13/50: Train Loss = 0.2022, Val Loss = 0.3145, Val Acc = 0.8902\n",
      "Epoch 14/50: Train Loss = 0.1942, Val Loss = 0.3315, Val Acc = 0.8880\n",
      "Epoch 15/50: Train Loss = 0.1950, Val Loss = 0.3181, Val Acc = 0.8887\n",
      "Epoch 16/50: Train Loss = 0.1756, Val Loss = 0.3208, Val Acc = 0.8947\n",
      "Epoch 17/50: Train Loss = 0.1698, Val Loss = 0.3210, Val Acc = 0.8902\n",
      "Epoch 18/50: Train Loss = 0.1659, Val Loss = 0.3096, Val Acc = 0.8972\n",
      "Epoch 19/50: Train Loss = 0.1532, Val Loss = 0.3673, Val Acc = 0.8845\n",
      "Epoch 20/50: Train Loss = 0.1547, Val Loss = 0.3364, Val Acc = 0.8960\n",
      "Epoch 21/50: Train Loss = 0.1484, Val Loss = 0.3308, Val Acc = 0.8980\n",
      "Epoch 22/50: Train Loss = 0.1360, Val Loss = 0.3511, Val Acc = 0.8910\n",
      "Epoch 23/50: Train Loss = 0.1336, Val Loss = 0.3706, Val Acc = 0.8870\n",
      "Epoch 24/50: Train Loss = 0.1317, Val Loss = 0.3674, Val Acc = 0.8880\n",
      "Epoch 25/50: Train Loss = 0.1264, Val Loss = 0.3966, Val Acc = 0.8787\n",
      "Epoch 26/50: Train Loss = 0.1193, Val Loss = 0.3598, Val Acc = 0.8978\n",
      "Epoch 27/50: Train Loss = 0.1162, Val Loss = 0.3821, Val Acc = 0.8865\n",
      "Epoch 28/50: Train Loss = 0.1093, Val Loss = 0.4262, Val Acc = 0.8835\n",
      "Epoch 29/50: Train Loss = 0.1129, Val Loss = 0.4081, Val Acc = 0.8932\n",
      "Epoch 30/50: Train Loss = 0.0988, Val Loss = 0.3847, Val Acc = 0.8957\n",
      "Epoch 31/50: Train Loss = 0.1059, Val Loss = 0.4035, Val Acc = 0.8957\n",
      "Epoch 32/50: Train Loss = 0.1004, Val Loss = 0.4003, Val Acc = 0.8968\n",
      "Epoch 33/50: Train Loss = 0.0923, Val Loss = 0.4179, Val Acc = 0.8935\n",
      "Epoch 34/50: Train Loss = 0.0847, Val Loss = 0.4199, Val Acc = 0.8952\n",
      "Epoch 35/50: Train Loss = 0.0897, Val Loss = 0.4586, Val Acc = 0.8913\n",
      "Epoch 36/50: Train Loss = 0.0874, Val Loss = 0.4667, Val Acc = 0.8972\n",
      "Epoch 37/50: Train Loss = 0.0830, Val Loss = 0.4265, Val Acc = 0.9002\n",
      "Epoch 38/50: Train Loss = 0.0747, Val Loss = 0.4440, Val Acc = 0.9002\n",
      "Epoch 39/50: Train Loss = 0.0779, Val Loss = 0.4590, Val Acc = 0.8970\n",
      "Epoch 40/50: Train Loss = 0.0748, Val Loss = 0.4518, Val Acc = 0.8925\n",
      "Epoch 41/50: Train Loss = 0.0722, Val Loss = 0.4700, Val Acc = 0.8908\n",
      "Epoch 42/50: Train Loss = 0.0724, Val Loss = 0.5413, Val Acc = 0.8838\n",
      "Epoch 43/50: Train Loss = 0.0762, Val Loss = 0.4727, Val Acc = 0.8965\n",
      "Epoch 44/50: Train Loss = 0.0673, Val Loss = 0.4887, Val Acc = 0.8993\n",
      "Epoch 45/50: Train Loss = 0.0569, Val Loss = 0.4830, Val Acc = 0.8998\n",
      "Epoch 46/50: Train Loss = 0.0601, Val Loss = 0.5217, Val Acc = 0.8933\n",
      "Epoch 47/50: Train Loss = 0.0683, Val Loss = 0.5663, Val Acc = 0.8845\n",
      "Epoch 48/50: Train Loss = 0.0590, Val Loss = 0.4866, Val Acc = 0.8965\n",
      "Epoch 49/50: Train Loss = 0.0553, Val Loss = 0.5095, Val Acc = 0.8967\n",
      "Epoch 50/50: Train Loss = 0.0608, Val Loss = 0.5312, Val Acc = 0.9012\n",
      "\n",
      "Training with params: {'hidden_layers': (480, 100), 'lr': 0.001, 'optimizer': 'sgd'}\n",
      "Epoch 1/50: Train Loss = 2.2502, Val Loss = 2.2028, Val Acc = 0.3477\n",
      "Epoch 2/50: Train Loss = 2.1558, Val Loss = 2.1071, Val Acc = 0.4945\n",
      "Epoch 3/50: Train Loss = 2.0563, Val Loss = 2.0039, Val Acc = 0.5385\n",
      "Epoch 4/50: Train Loss = 1.9502, Val Loss = 1.8948, Val Acc = 0.5608\n",
      "Epoch 5/50: Train Loss = 1.8368, Val Loss = 1.7791, Val Acc = 0.5847\n",
      "Epoch 6/50: Train Loss = 1.7208, Val Loss = 1.6631, Val Acc = 0.6090\n",
      "Epoch 7/50: Train Loss = 1.6073, Val Loss = 1.5540, Val Acc = 0.6272\n",
      "Epoch 8/50: Train Loss = 1.5025, Val Loss = 1.4538, Val Acc = 0.6358\n",
      "Epoch 9/50: Train Loss = 1.4080, Val Loss = 1.3661, Val Acc = 0.6450\n",
      "Epoch 10/50: Train Loss = 1.3254, Val Loss = 1.2873, Val Acc = 0.6512\n",
      "Epoch 11/50: Train Loss = 1.2539, Val Loss = 1.2218, Val Acc = 0.6540\n",
      "Epoch 12/50: Train Loss = 1.1928, Val Loss = 1.1669, Val Acc = 0.6587\n",
      "Epoch 13/50: Train Loss = 1.1403, Val Loss = 1.1164, Val Acc = 0.6622\n",
      "Epoch 14/50: Train Loss = 1.0960, Val Loss = 1.0738, Val Acc = 0.6672\n",
      "Epoch 15/50: Train Loss = 1.0565, Val Loss = 1.0354, Val Acc = 0.6727\n",
      "Epoch 16/50: Train Loss = 1.0229, Val Loss = 1.0057, Val Acc = 0.6772\n",
      "Epoch 17/50: Train Loss = 0.9921, Val Loss = 0.9761, Val Acc = 0.6823\n",
      "Epoch 18/50: Train Loss = 0.9657, Val Loss = 0.9522, Val Acc = 0.6877\n",
      "Epoch 19/50: Train Loss = 0.9424, Val Loss = 0.9272, Val Acc = 0.6932\n",
      "Epoch 20/50: Train Loss = 0.9208, Val Loss = 0.9081, Val Acc = 0.6988\n",
      "Epoch 21/50: Train Loss = 0.9018, Val Loss = 0.8889, Val Acc = 0.7038\n",
      "Epoch 22/50: Train Loss = 0.8842, Val Loss = 0.8733, Val Acc = 0.7118\n",
      "Epoch 23/50: Train Loss = 0.8676, Val Loss = 0.8556, Val Acc = 0.7167\n",
      "Epoch 24/50: Train Loss = 0.8532, Val Loss = 0.8422, Val Acc = 0.7230\n",
      "Epoch 25/50: Train Loss = 0.8391, Val Loss = 0.8262, Val Acc = 0.7258\n",
      "Epoch 26/50: Train Loss = 0.8261, Val Loss = 0.8175, Val Acc = 0.7283\n",
      "Epoch 27/50: Train Loss = 0.8144, Val Loss = 0.8041, Val Acc = 0.7310\n",
      "Epoch 28/50: Train Loss = 0.8030, Val Loss = 0.7948, Val Acc = 0.7350\n",
      "Epoch 29/50: Train Loss = 0.7922, Val Loss = 0.7810, Val Acc = 0.7378\n",
      "Epoch 30/50: Train Loss = 0.7820, Val Loss = 0.7745, Val Acc = 0.7422\n",
      "Epoch 31/50: Train Loss = 0.7729, Val Loss = 0.7633, Val Acc = 0.7475\n",
      "Epoch 32/50: Train Loss = 0.7631, Val Loss = 0.7544, Val Acc = 0.7493\n",
      "Epoch 33/50: Train Loss = 0.7545, Val Loss = 0.7457, Val Acc = 0.7530\n",
      "Epoch 34/50: Train Loss = 0.7459, Val Loss = 0.7370, Val Acc = 0.7540\n",
      "Epoch 35/50: Train Loss = 0.7377, Val Loss = 0.7301, Val Acc = 0.7573\n",
      "Epoch 36/50: Train Loss = 0.7299, Val Loss = 0.7233, Val Acc = 0.7608\n",
      "Epoch 37/50: Train Loss = 0.7225, Val Loss = 0.7149, Val Acc = 0.7637\n",
      "Epoch 38/50: Train Loss = 0.7152, Val Loss = 0.7082, Val Acc = 0.7657\n",
      "Epoch 39/50: Train Loss = 0.7079, Val Loss = 0.7006, Val Acc = 0.7665\n",
      "Epoch 40/50: Train Loss = 0.7012, Val Loss = 0.6947, Val Acc = 0.7683\n",
      "Epoch 41/50: Train Loss = 0.6950, Val Loss = 0.6882, Val Acc = 0.7705\n",
      "Epoch 42/50: Train Loss = 0.6891, Val Loss = 0.6810, Val Acc = 0.7723\n",
      "Epoch 43/50: Train Loss = 0.6826, Val Loss = 0.6772, Val Acc = 0.7728\n",
      "Epoch 44/50: Train Loss = 0.6764, Val Loss = 0.6714, Val Acc = 0.7750\n",
      "Epoch 45/50: Train Loss = 0.6708, Val Loss = 0.6632, Val Acc = 0.7757\n",
      "Epoch 46/50: Train Loss = 0.6656, Val Loss = 0.6596, Val Acc = 0.7768\n",
      "Epoch 47/50: Train Loss = 0.6604, Val Loss = 0.6536, Val Acc = 0.7787\n",
      "Epoch 48/50: Train Loss = 0.6544, Val Loss = 0.6488, Val Acc = 0.7798\n",
      "Epoch 49/50: Train Loss = 0.6494, Val Loss = 0.6445, Val Acc = 0.7812\n",
      "Epoch 50/50: Train Loss = 0.6444, Val Loss = 0.6376, Val Acc = 0.7825\n",
      "\n",
      "Training with params: {'hidden_layers': (480, 100), 'lr': 0.01, 'optimizer': 'adam'}\n",
      "Epoch 1/50: Train Loss = 0.6784, Val Loss = 0.3911, Val Acc = 0.8588\n",
      "Epoch 2/50: Train Loss = 0.3659, Val Loss = 0.3581, Val Acc = 0.8708\n",
      "Epoch 3/50: Train Loss = 0.3330, Val Loss = 0.3562, Val Acc = 0.8732\n",
      "Epoch 4/50: Train Loss = 0.3068, Val Loss = 0.3281, Val Acc = 0.8830\n",
      "Epoch 5/50: Train Loss = 0.2931, Val Loss = 0.3251, Val Acc = 0.8835\n",
      "Epoch 6/50: Train Loss = 0.2749, Val Loss = 0.3456, Val Acc = 0.8775\n",
      "Epoch 7/50: Train Loss = 0.2701, Val Loss = 0.3181, Val Acc = 0.8853\n",
      "Epoch 8/50: Train Loss = 0.2644, Val Loss = 0.3471, Val Acc = 0.8772\n",
      "Epoch 9/50: Train Loss = 0.2491, Val Loss = 0.3381, Val Acc = 0.8813\n",
      "Epoch 10/50: Train Loss = 0.2474, Val Loss = 0.3294, Val Acc = 0.8875\n",
      "Epoch 11/50: Train Loss = 0.2344, Val Loss = 0.3594, Val Acc = 0.8878\n",
      "Epoch 12/50: Train Loss = 0.2416, Val Loss = 0.3375, Val Acc = 0.8892\n",
      "Epoch 13/50: Train Loss = 0.2336, Val Loss = 0.3386, Val Acc = 0.8888\n",
      "Epoch 14/50: Train Loss = 0.2250, Val Loss = 0.3482, Val Acc = 0.8872\n",
      "Epoch 15/50: Train Loss = 0.2188, Val Loss = 0.3431, Val Acc = 0.8858\n",
      "Epoch 16/50: Train Loss = 0.2188, Val Loss = 0.3645, Val Acc = 0.8845\n",
      "Epoch 17/50: Train Loss = 0.2192, Val Loss = 0.3658, Val Acc = 0.8853\n",
      "Epoch 18/50: Train Loss = 0.2384, Val Loss = 0.3552, Val Acc = 0.8863\n",
      "Epoch 19/50: Train Loss = 0.2014, Val Loss = 0.3562, Val Acc = 0.8940\n",
      "Epoch 20/50: Train Loss = 0.1980, Val Loss = 0.3635, Val Acc = 0.8917\n",
      "Epoch 21/50: Train Loss = 0.1940, Val Loss = 0.3688, Val Acc = 0.8898\n",
      "Epoch 22/50: Train Loss = 0.1889, Val Loss = 0.3818, Val Acc = 0.8893\n",
      "Epoch 23/50: Train Loss = 0.1955, Val Loss = 0.3919, Val Acc = 0.8892\n",
      "Epoch 24/50: Train Loss = 0.1946, Val Loss = 0.3875, Val Acc = 0.8932\n",
      "Epoch 25/50: Train Loss = 0.1874, Val Loss = 0.4004, Val Acc = 0.8858\n",
      "Epoch 26/50: Train Loss = 0.1805, Val Loss = 0.4423, Val Acc = 0.8895\n",
      "Epoch 27/50: Train Loss = 0.1824, Val Loss = 0.4056, Val Acc = 0.8917\n",
      "Epoch 28/50: Train Loss = 0.1837, Val Loss = 0.4127, Val Acc = 0.8922\n",
      "Epoch 29/50: Train Loss = 0.1994, Val Loss = 0.4411, Val Acc = 0.8898\n",
      "Epoch 30/50: Train Loss = 0.1875, Val Loss = 0.4213, Val Acc = 0.8855\n",
      "Epoch 31/50: Train Loss = 0.2033, Val Loss = 0.5018, Val Acc = 0.8753\n",
      "Epoch 32/50: Train Loss = 0.1927, Val Loss = 0.4461, Val Acc = 0.8892\n",
      "Epoch 33/50: Train Loss = 0.1829, Val Loss = 0.4334, Val Acc = 0.8895\n",
      "Epoch 34/50: Train Loss = 0.1635, Val Loss = 0.4377, Val Acc = 0.8917\n",
      "Epoch 35/50: Train Loss = 0.1708, Val Loss = 0.4754, Val Acc = 0.8883\n",
      "Epoch 36/50: Train Loss = 0.1649, Val Loss = 0.4562, Val Acc = 0.8917\n",
      "Epoch 37/50: Train Loss = 0.1676, Val Loss = 0.4616, Val Acc = 0.8873\n",
      "Epoch 38/50: Train Loss = 0.1638, Val Loss = 0.4595, Val Acc = 0.8865\n",
      "Epoch 39/50: Train Loss = 0.1689, Val Loss = 0.4735, Val Acc = 0.8897\n",
      "Epoch 40/50: Train Loss = 0.1638, Val Loss = 0.4425, Val Acc = 0.8938\n",
      "Epoch 41/50: Train Loss = 0.1549, Val Loss = 0.4795, Val Acc = 0.8925\n",
      "Epoch 42/50: Train Loss = 0.1662, Val Loss = 0.4659, Val Acc = 0.8957\n",
      "Epoch 43/50: Train Loss = 0.1701, Val Loss = 0.4759, Val Acc = 0.8853\n",
      "Epoch 44/50: Train Loss = 0.1661, Val Loss = 0.4827, Val Acc = 0.8918\n",
      "Epoch 45/50: Train Loss = 0.1492, Val Loss = 0.5084, Val Acc = 0.8878\n",
      "Epoch 46/50: Train Loss = 0.1623, Val Loss = 0.5098, Val Acc = 0.8848\n",
      "Epoch 47/50: Train Loss = 0.1644, Val Loss = 0.5121, Val Acc = 0.8887\n",
      "Epoch 48/50: Train Loss = 0.1452, Val Loss = 0.5477, Val Acc = 0.8897\n",
      "Epoch 49/50: Train Loss = 0.1565, Val Loss = 0.5739, Val Acc = 0.8877\n",
      "Epoch 50/50: Train Loss = 0.1681, Val Loss = 0.5551, Val Acc = 0.8847\n",
      "\n",
      "Training with params: {'hidden_layers': (480, 100), 'lr': 0.01, 'optimizer': 'rmsprop'}\n",
      "Epoch 1/50: Train Loss = 26.2567, Val Loss = 0.5932, Val Acc = 0.7732\n",
      "Epoch 2/50: Train Loss = 0.5446, Val Loss = 0.5265, Val Acc = 0.8100\n",
      "Epoch 3/50: Train Loss = 0.4702, Val Loss = 0.4414, Val Acc = 0.8473\n",
      "Epoch 4/50: Train Loss = 0.4596, Val Loss = 0.4163, Val Acc = 0.8543\n",
      "Epoch 5/50: Train Loss = 0.4337, Val Loss = 0.6894, Val Acc = 0.8123\n",
      "Epoch 6/50: Train Loss = 0.6293, Val Loss = 1.6600, Val Acc = 0.6093\n",
      "Epoch 7/50: Train Loss = 0.6082, Val Loss = 0.4831, Val Acc = 0.8135\n",
      "Epoch 8/50: Train Loss = 0.3951, Val Loss = 0.5457, Val Acc = 0.8195\n",
      "Epoch 9/50: Train Loss = 0.3716, Val Loss = 0.4639, Val Acc = 0.8343\n",
      "Epoch 10/50: Train Loss = 0.3736, Val Loss = 1.0057, Val Acc = 0.7853\n",
      "Epoch 11/50: Train Loss = 0.4249, Val Loss = 0.3994, Val Acc = 0.8670\n",
      "Epoch 12/50: Train Loss = 0.3678, Val Loss = 0.4402, Val Acc = 0.8488\n",
      "Epoch 13/50: Train Loss = 0.3434, Val Loss = 0.3854, Val Acc = 0.8538\n",
      "Epoch 14/50: Train Loss = 0.3663, Val Loss = 0.4867, Val Acc = 0.8423\n",
      "Epoch 15/50: Train Loss = 0.3566, Val Loss = 0.4167, Val Acc = 0.8588\n",
      "Epoch 16/50: Train Loss = 0.5754, Val Loss = 1.2291, Val Acc = 0.5560\n",
      "Epoch 17/50: Train Loss = 0.5449, Val Loss = 0.4221, Val Acc = 0.8680\n",
      "Epoch 18/50: Train Loss = 0.3215, Val Loss = 0.4066, Val Acc = 0.8735\n",
      "Epoch 19/50: Train Loss = 0.4636, Val Loss = 1.1178, Val Acc = 0.6662\n",
      "Epoch 20/50: Train Loss = 0.4654, Val Loss = 0.4140, Val Acc = 0.8617\n",
      "Epoch 21/50: Train Loss = 0.3328, Val Loss = 0.3801, Val Acc = 0.8772\n",
      "Epoch 22/50: Train Loss = 0.3467, Val Loss = 0.4213, Val Acc = 0.8728\n",
      "Epoch 23/50: Train Loss = 0.3039, Val Loss = 0.3794, Val Acc = 0.8745\n",
      "Epoch 24/50: Train Loss = 0.3109, Val Loss = 0.4313, Val Acc = 0.8642\n",
      "Epoch 25/50: Train Loss = 0.2998, Val Loss = 0.4216, Val Acc = 0.8653\n",
      "Epoch 26/50: Train Loss = 0.2869, Val Loss = 0.4030, Val Acc = 0.8695\n",
      "Epoch 27/50: Train Loss = 0.3286, Val Loss = 0.3898, Val Acc = 0.8735\n",
      "Epoch 28/50: Train Loss = 0.2831, Val Loss = 0.4207, Val Acc = 0.8698\n",
      "Epoch 29/50: Train Loss = 0.2828, Val Loss = 0.3862, Val Acc = 0.8812\n",
      "Epoch 30/50: Train Loss = 0.2681, Val Loss = 0.4056, Val Acc = 0.8762\n",
      "Epoch 31/50: Train Loss = 0.2707, Val Loss = 0.4006, Val Acc = 0.8842\n",
      "Epoch 32/50: Train Loss = 0.2770, Val Loss = 0.4636, Val Acc = 0.8605\n",
      "Epoch 33/50: Train Loss = 0.2815, Val Loss = 0.4390, Val Acc = 0.8730\n",
      "Epoch 34/50: Train Loss = 0.2477, Val Loss = 0.4106, Val Acc = 0.8808\n",
      "Epoch 35/50: Train Loss = 0.2647, Val Loss = 0.4821, Val Acc = 0.8690\n",
      "Epoch 36/50: Train Loss = 0.2517, Val Loss = 0.4823, Val Acc = 0.8720\n",
      "Epoch 37/50: Train Loss = 0.2498, Val Loss = 0.5552, Val Acc = 0.8573\n",
      "Epoch 38/50: Train Loss = 0.2553, Val Loss = 0.4879, Val Acc = 0.8712\n",
      "Epoch 39/50: Train Loss = 0.2497, Val Loss = 0.4584, Val Acc = 0.8793\n",
      "Epoch 40/50: Train Loss = 0.2477, Val Loss = 0.4827, Val Acc = 0.8652\n",
      "Epoch 41/50: Train Loss = 0.2774, Val Loss = 0.5148, Val Acc = 0.8790\n",
      "Epoch 42/50: Train Loss = 0.2455, Val Loss = 0.6856, Val Acc = 0.8518\n",
      "Epoch 43/50: Train Loss = 0.2354, Val Loss = 0.4923, Val Acc = 0.8850\n",
      "Epoch 44/50: Train Loss = 0.2343, Val Loss = 0.5075, Val Acc = 0.8818\n",
      "Epoch 45/50: Train Loss = 0.2516, Val Loss = 0.4615, Val Acc = 0.8835\n",
      "Epoch 46/50: Train Loss = 0.2305, Val Loss = 0.4757, Val Acc = 0.8683\n",
      "Epoch 47/50: Train Loss = 0.2274, Val Loss = 0.6209, Val Acc = 0.8368\n",
      "Epoch 48/50: Train Loss = 0.2453, Val Loss = 0.5317, Val Acc = 0.8722\n",
      "Epoch 49/50: Train Loss = 0.2483, Val Loss = 0.5431, Val Acc = 0.8823\n",
      "Epoch 50/50: Train Loss = 0.2281, Val Loss = 0.4417, Val Acc = 0.8828\n",
      "\n",
      "Training with params: {'hidden_layers': (480, 100), 'lr': 0.01, 'optimizer': 'sgd'}\n",
      "Epoch 1/50: Train Loss = 1.7981, Val Loss = 1.2783, Val Acc = 0.6470\n",
      "Epoch 2/50: Train Loss = 1.0466, Val Loss = 0.8947, Val Acc = 0.6947\n",
      "Epoch 3/50: Train Loss = 0.8319, Val Loss = 0.7698, Val Acc = 0.7373\n",
      "Epoch 4/50: Train Loss = 0.7367, Val Loss = 0.6973, Val Acc = 0.7540\n",
      "Epoch 5/50: Train Loss = 0.6717, Val Loss = 0.6414, Val Acc = 0.7833\n",
      "Epoch 6/50: Train Loss = 0.6230, Val Loss = 0.6065, Val Acc = 0.7913\n",
      "Epoch 7/50: Train Loss = 0.5869, Val Loss = 0.5657, Val Acc = 0.8122\n",
      "Epoch 8/50: Train Loss = 0.5582, Val Loss = 0.5474, Val Acc = 0.8165\n",
      "Epoch 9/50: Train Loss = 0.5370, Val Loss = 0.5277, Val Acc = 0.8248\n",
      "Epoch 10/50: Train Loss = 0.5185, Val Loss = 0.5116, Val Acc = 0.8260\n",
      "Epoch 11/50: Train Loss = 0.5048, Val Loss = 0.4990, Val Acc = 0.8350\n",
      "Epoch 12/50: Train Loss = 0.4938, Val Loss = 0.4960, Val Acc = 0.8330\n",
      "Epoch 13/50: Train Loss = 0.4831, Val Loss = 0.4791, Val Acc = 0.8378\n",
      "Epoch 14/50: Train Loss = 0.4740, Val Loss = 0.4692, Val Acc = 0.8413\n",
      "Epoch 15/50: Train Loss = 0.4669, Val Loss = 0.4682, Val Acc = 0.8382\n",
      "Epoch 16/50: Train Loss = 0.4589, Val Loss = 0.4700, Val Acc = 0.8387\n",
      "Epoch 17/50: Train Loss = 0.4525, Val Loss = 0.4506, Val Acc = 0.8443\n",
      "Epoch 18/50: Train Loss = 0.4468, Val Loss = 0.4425, Val Acc = 0.8485\n",
      "Epoch 19/50: Train Loss = 0.4416, Val Loss = 0.4592, Val Acc = 0.8385\n",
      "Epoch 20/50: Train Loss = 0.4347, Val Loss = 0.4403, Val Acc = 0.8478\n",
      "Epoch 21/50: Train Loss = 0.4299, Val Loss = 0.4343, Val Acc = 0.8530\n",
      "Epoch 22/50: Train Loss = 0.4262, Val Loss = 0.4372, Val Acc = 0.8500\n",
      "Epoch 23/50: Train Loss = 0.4228, Val Loss = 0.4270, Val Acc = 0.8507\n",
      "Epoch 24/50: Train Loss = 0.4169, Val Loss = 0.4297, Val Acc = 0.8518\n",
      "Epoch 25/50: Train Loss = 0.4141, Val Loss = 0.4292, Val Acc = 0.8557\n",
      "Epoch 26/50: Train Loss = 0.4105, Val Loss = 0.4235, Val Acc = 0.8547\n",
      "Epoch 27/50: Train Loss = 0.4065, Val Loss = 0.4247, Val Acc = 0.8542\n",
      "Epoch 28/50: Train Loss = 0.4036, Val Loss = 0.4089, Val Acc = 0.8592\n",
      "Epoch 29/50: Train Loss = 0.4005, Val Loss = 0.4064, Val Acc = 0.8598\n",
      "Epoch 30/50: Train Loss = 0.3970, Val Loss = 0.4113, Val Acc = 0.8600\n",
      "Epoch 31/50: Train Loss = 0.3955, Val Loss = 0.4032, Val Acc = 0.8613\n",
      "Epoch 32/50: Train Loss = 0.3923, Val Loss = 0.4098, Val Acc = 0.8573\n",
      "Epoch 33/50: Train Loss = 0.3891, Val Loss = 0.4018, Val Acc = 0.8610\n",
      "Epoch 34/50: Train Loss = 0.3859, Val Loss = 0.3978, Val Acc = 0.8613\n",
      "Epoch 35/50: Train Loss = 0.3836, Val Loss = 0.3903, Val Acc = 0.8630\n",
      "Epoch 36/50: Train Loss = 0.3809, Val Loss = 0.4134, Val Acc = 0.8533\n",
      "Epoch 37/50: Train Loss = 0.3793, Val Loss = 0.3965, Val Acc = 0.8607\n",
      "Epoch 38/50: Train Loss = 0.3767, Val Loss = 0.4232, Val Acc = 0.8545\n",
      "Epoch 39/50: Train Loss = 0.3743, Val Loss = 0.3859, Val Acc = 0.8662\n",
      "Epoch 40/50: Train Loss = 0.3717, Val Loss = 0.4223, Val Acc = 0.8490\n",
      "Epoch 41/50: Train Loss = 0.3701, Val Loss = 0.3928, Val Acc = 0.8620\n",
      "Epoch 42/50: Train Loss = 0.3685, Val Loss = 0.4151, Val Acc = 0.8558\n",
      "Epoch 43/50: Train Loss = 0.3656, Val Loss = 0.3793, Val Acc = 0.8683\n",
      "Epoch 44/50: Train Loss = 0.3623, Val Loss = 0.3835, Val Acc = 0.8638\n",
      "Epoch 45/50: Train Loss = 0.3612, Val Loss = 0.3812, Val Acc = 0.8667\n",
      "Epoch 46/50: Train Loss = 0.3590, Val Loss = 0.3759, Val Acc = 0.8678\n",
      "Epoch 47/50: Train Loss = 0.3583, Val Loss = 0.3744, Val Acc = 0.8685\n",
      "Epoch 48/50: Train Loss = 0.3557, Val Loss = 0.3784, Val Acc = 0.8672\n",
      "Epoch 49/50: Train Loss = 0.3533, Val Loss = 0.3731, Val Acc = 0.8700\n",
      "Epoch 50/50: Train Loss = 0.3516, Val Loss = 0.3714, Val Acc = 0.8670\n",
      "\n",
      "Training with params: {'hidden_layers': (480, 100), 'lr': 0.1, 'optimizer': 'adam'}\n",
      "Epoch 1/50: Train Loss = 25.5667, Val Loss = 1.2397, Val Acc = 0.5642\n",
      "Epoch 2/50: Train Loss = 1.2996, Val Loss = 1.2061, Val Acc = 0.6078\n",
      "Epoch 3/50: Train Loss = 1.3786, Val Loss = 2.1363, Val Acc = 0.4282\n",
      "Epoch 4/50: Train Loss = 1.5148, Val Loss = 1.1622, Val Acc = 0.5625\n",
      "Epoch 5/50: Train Loss = 1.3300, Val Loss = 1.3533, Val Acc = 0.4672\n",
      "Epoch 6/50: Train Loss = 1.2692, Val Loss = 1.2001, Val Acc = 0.5032\n",
      "Epoch 7/50: Train Loss = 1.2409, Val Loss = 1.2367, Val Acc = 0.4888\n",
      "Epoch 8/50: Train Loss = 1.1629, Val Loss = 1.1939, Val Acc = 0.5173\n",
      "Epoch 9/50: Train Loss = 1.7797, Val Loss = 1.5076, Val Acc = 0.4003\n",
      "Epoch 10/50: Train Loss = 1.3941, Val Loss = 1.4861, Val Acc = 0.4273\n",
      "Epoch 11/50: Train Loss = 1.3996, Val Loss = 1.4574, Val Acc = 0.4353\n",
      "Epoch 12/50: Train Loss = 1.5266, Val Loss = 1.5127, Val Acc = 0.4183\n",
      "Epoch 13/50: Train Loss = 1.5399, Val Loss = 1.7287, Val Acc = 0.3128\n",
      "Epoch 14/50: Train Loss = 1.5297, Val Loss = 1.5368, Val Acc = 0.3433\n",
      "Epoch 15/50: Train Loss = 1.4858, Val Loss = 1.5464, Val Acc = 0.3762\n",
      "Epoch 16/50: Train Loss = 1.4639, Val Loss = 1.4012, Val Acc = 0.3997\n",
      "Epoch 17/50: Train Loss = 1.4156, Val Loss = 1.4231, Val Acc = 0.4015\n",
      "Epoch 18/50: Train Loss = 1.3683, Val Loss = 1.3552, Val Acc = 0.4522\n",
      "Epoch 19/50: Train Loss = 1.2507, Val Loss = 1.2383, Val Acc = 0.4762\n",
      "Epoch 20/50: Train Loss = 1.1597, Val Loss = 1.1684, Val Acc = 0.5315\n",
      "Epoch 21/50: Train Loss = 1.1134, Val Loss = 1.1699, Val Acc = 0.5367\n",
      "Epoch 22/50: Train Loss = 1.2091, Val Loss = 1.2870, Val Acc = 0.5133\n",
      "Epoch 23/50: Train Loss = 1.3056, Val Loss = 1.3081, Val Acc = 0.4820\n",
      "Epoch 24/50: Train Loss = 2.4565, Val Loss = 1.9393, Val Acc = 0.2077\n",
      "Epoch 25/50: Train Loss = 2.0744, Val Loss = 1.9412, Val Acc = 0.1878\n",
      "Epoch 26/50: Train Loss = 2.2031, Val Loss = 2.8964, Val Acc = 0.1912\n",
      "Epoch 27/50: Train Loss = 1.9908, Val Loss = 1.9477, Val Acc = 0.1943\n",
      "Epoch 28/50: Train Loss = 1.9065, Val Loss = 2.0804, Val Acc = 0.1900\n",
      "Epoch 29/50: Train Loss = 2.5240, Val Loss = 1.9971, Val Acc = 0.1733\n"
     ]
    },
    {
     "ename": "KeyboardInterrupt",
     "evalue": "",
     "output_type": "error",
     "traceback": [
      "\u001b[31m---------------------------------------------------------------------------\u001b[39m",
      "\u001b[31mKeyboardInterrupt\u001b[39m                         Traceback (most recent call last)",
      "\u001b[36mCell\u001b[39m\u001b[36m \u001b[39m\u001b[32mIn[7]\u001b[39m\u001b[32m, line 16\u001b[39m\n\u001b[32m      8\u001b[39m model = PyTorchClassifierWithTorchvision(\n\u001b[32m      9\u001b[39m     hidden_layers=params[\u001b[33m'\u001b[39m\u001b[33mhidden_layers\u001b[39m\u001b[33m'\u001b[39m],\n\u001b[32m     10\u001b[39m     epochs=\u001b[32m50\u001b[39m,\n\u001b[32m     11\u001b[39m     lr=params[\u001b[33m'\u001b[39m\u001b[33mlr\u001b[39m\u001b[33m'\u001b[39m],\n\u001b[32m     12\u001b[39m     optimizer=params[\u001b[33m'\u001b[39m\u001b[33moptimizer\u001b[39m\u001b[33m'\u001b[39m]\n\u001b[32m     13\u001b[39m )\n\u001b[32m     15\u001b[39m \u001b[38;5;66;03m# Train model\u001b[39;00m\n\u001b[32m---> \u001b[39m\u001b[32m16\u001b[39m \u001b[43mmodel\u001b[49m\u001b[43m.\u001b[49m\u001b[43mfit\u001b[49m\u001b[43m(\u001b[49m\u001b[43mtrain_batches\u001b[49m\u001b[43m,\u001b[49m\u001b[43m \u001b[49m\u001b[43mval_batches\u001b[49m\u001b[43m,\u001b[49m\u001b[43m \u001b[49m\u001b[43minput_dim\u001b[49m\u001b[43m=\u001b[49m\u001b[32;43m784\u001b[39;49m\u001b[43m,\u001b[49m\u001b[43m \u001b[49m\u001b[43moutput_dim\u001b[49m\u001b[43m=\u001b[49m\u001b[32;43m10\u001b[39;49m\u001b[43m)\u001b[49m\n\u001b[32m     18\u001b[39m \u001b[38;5;66;03m# Evaluate model\u001b[39;00m\n\u001b[32m     19\u001b[39m test_acc = model.score(test_batches)\n",
      "\u001b[36mCell\u001b[39m\u001b[36m \u001b[39m\u001b[32mIn[5]\u001b[39m\u001b[32m, line 47\u001b[39m, in \u001b[36mPyTorchClassifierWithTorchvision.fit\u001b[39m\u001b[34m(self, train_batches, val_batches, input_dim, output_dim)\u001b[39m\n\u001b[32m     44\u001b[39m total = \u001b[32m0\u001b[39m\n\u001b[32m     45\u001b[39m \u001b[38;5;28;01mwith\u001b[39;00m torch.no_grad():\n\u001b[32m     46\u001b[39m     \u001b[38;5;66;03m#for batch_X, batch_y in val_loader:\u001b[39;00m\n\u001b[32m---> \u001b[39m\u001b[32m47\u001b[39m \u001b[43m    \u001b[49m\u001b[38;5;28;43;01mfor\u001b[39;49;00m\u001b[43m \u001b[49m\u001b[43mval_features\u001b[49m\u001b[43m,\u001b[49m\u001b[43m \u001b[49m\u001b[43mval_labels\u001b[49m\u001b[43m \u001b[49m\u001b[38;5;129;43;01min\u001b[39;49;00m\u001b[43m \u001b[49m\u001b[43mval_batches\u001b[49m\u001b[43m:\u001b[49m\n\u001b[32m     48\u001b[39m \u001b[43m        \u001b[49m\u001b[43mval_features\u001b[49m\u001b[43m \u001b[49m\u001b[43m=\u001b[49m\u001b[43m \u001b[49m\u001b[43mval_features\u001b[49m\u001b[43m.\u001b[49m\u001b[43mview\u001b[49m\u001b[43m(\u001b[49m\u001b[43mval_features\u001b[49m\u001b[43m.\u001b[49m\u001b[43msize\u001b[49m\u001b[43m(\u001b[49m\u001b[32;43m0\u001b[39;49m\u001b[43m)\u001b[49m\u001b[43m,\u001b[49m\u001b[43m \u001b[49m\u001b[43m-\u001b[49m\u001b[32;43m1\u001b[39;49m\u001b[43m)\u001b[49m\n\u001b[32m     49\u001b[39m \u001b[43m        \u001b[49m\u001b[43moutput\u001b[49m\u001b[43m \u001b[49m\u001b[43m=\u001b[49m\u001b[43m \u001b[49m\u001b[38;5;28;43mself\u001b[39;49m\u001b[43m.\u001b[49m\u001b[43mmodel\u001b[49m\u001b[43m(\u001b[49m\u001b[43mval_features\u001b[49m\u001b[43m)\u001b[49m\n",
      "\u001b[36mFile \u001b[39m\u001b[32m/opt/miniconda3/lib/python3.12/site-packages/torch/utils/data/dataloader.py:708\u001b[39m, in \u001b[36m_BaseDataLoaderIter.__next__\u001b[39m\u001b[34m(self)\u001b[39m\n\u001b[32m    705\u001b[39m \u001b[38;5;28;01mif\u001b[39;00m \u001b[38;5;28mself\u001b[39m._sampler_iter \u001b[38;5;129;01mis\u001b[39;00m \u001b[38;5;28;01mNone\u001b[39;00m:\n\u001b[32m    706\u001b[39m     \u001b[38;5;66;03m# TODO(https://github.com/pytorch/pytorch/issues/76750)\u001b[39;00m\n\u001b[32m    707\u001b[39m     \u001b[38;5;28mself\u001b[39m._reset()  \u001b[38;5;66;03m# type: ignore[call-arg]\u001b[39;00m\n\u001b[32m--> \u001b[39m\u001b[32m708\u001b[39m data = \u001b[38;5;28;43mself\u001b[39;49m\u001b[43m.\u001b[49m\u001b[43m_next_data\u001b[49m\u001b[43m(\u001b[49m\u001b[43m)\u001b[49m\n\u001b[32m    709\u001b[39m \u001b[38;5;28mself\u001b[39m._num_yielded += \u001b[32m1\u001b[39m\n\u001b[32m    710\u001b[39m \u001b[38;5;28;01mif\u001b[39;00m (\n\u001b[32m    711\u001b[39m     \u001b[38;5;28mself\u001b[39m._dataset_kind == _DatasetKind.Iterable\n\u001b[32m    712\u001b[39m     \u001b[38;5;129;01mand\u001b[39;00m \u001b[38;5;28mself\u001b[39m._IterableDataset_len_called \u001b[38;5;129;01mis\u001b[39;00m \u001b[38;5;129;01mnot\u001b[39;00m \u001b[38;5;28;01mNone\u001b[39;00m\n\u001b[32m    713\u001b[39m     \u001b[38;5;129;01mand\u001b[39;00m \u001b[38;5;28mself\u001b[39m._num_yielded > \u001b[38;5;28mself\u001b[39m._IterableDataset_len_called\n\u001b[32m    714\u001b[39m ):\n",
      "\u001b[36mFile \u001b[39m\u001b[32m/opt/miniconda3/lib/python3.12/site-packages/torch/utils/data/dataloader.py:764\u001b[39m, in \u001b[36m_SingleProcessDataLoaderIter._next_data\u001b[39m\u001b[34m(self)\u001b[39m\n\u001b[32m    762\u001b[39m \u001b[38;5;28;01mdef\u001b[39;00m\u001b[38;5;250m \u001b[39m\u001b[34m_next_data\u001b[39m(\u001b[38;5;28mself\u001b[39m):\n\u001b[32m    763\u001b[39m     index = \u001b[38;5;28mself\u001b[39m._next_index()  \u001b[38;5;66;03m# may raise StopIteration\u001b[39;00m\n\u001b[32m--> \u001b[39m\u001b[32m764\u001b[39m     data = \u001b[38;5;28;43mself\u001b[39;49m\u001b[43m.\u001b[49m\u001b[43m_dataset_fetcher\u001b[49m\u001b[43m.\u001b[49m\u001b[43mfetch\u001b[49m\u001b[43m(\u001b[49m\u001b[43mindex\u001b[49m\u001b[43m)\u001b[49m  \u001b[38;5;66;03m# may raise StopIteration\u001b[39;00m\n\u001b[32m    765\u001b[39m     \u001b[38;5;28;01mif\u001b[39;00m \u001b[38;5;28mself\u001b[39m._pin_memory:\n\u001b[32m    766\u001b[39m         data = _utils.pin_memory.pin_memory(data, \u001b[38;5;28mself\u001b[39m._pin_memory_device)\n",
      "\u001b[36mFile \u001b[39m\u001b[32m/opt/miniconda3/lib/python3.12/site-packages/torch/utils/data/_utils/fetch.py:50\u001b[39m, in \u001b[36m_MapDatasetFetcher.fetch\u001b[39m\u001b[34m(self, possibly_batched_index)\u001b[39m\n\u001b[32m     48\u001b[39m \u001b[38;5;28;01mif\u001b[39;00m \u001b[38;5;28mself\u001b[39m.auto_collation:\n\u001b[32m     49\u001b[39m     \u001b[38;5;28;01mif\u001b[39;00m \u001b[38;5;28mhasattr\u001b[39m(\u001b[38;5;28mself\u001b[39m.dataset, \u001b[33m\"\u001b[39m\u001b[33m__getitems__\u001b[39m\u001b[33m\"\u001b[39m) \u001b[38;5;129;01mand\u001b[39;00m \u001b[38;5;28mself\u001b[39m.dataset.__getitems__:\n\u001b[32m---> \u001b[39m\u001b[32m50\u001b[39m         data = \u001b[38;5;28;43mself\u001b[39;49m\u001b[43m.\u001b[49m\u001b[43mdataset\u001b[49m\u001b[43m.\u001b[49m\u001b[43m__getitems__\u001b[49m\u001b[43m(\u001b[49m\u001b[43mpossibly_batched_index\u001b[49m\u001b[43m)\u001b[49m\n\u001b[32m     51\u001b[39m     \u001b[38;5;28;01melse\u001b[39;00m:\n\u001b[32m     52\u001b[39m         data = [\u001b[38;5;28mself\u001b[39m.dataset[idx] \u001b[38;5;28;01mfor\u001b[39;00m idx \u001b[38;5;129;01min\u001b[39;00m possibly_batched_index]\n",
      "\u001b[36mFile \u001b[39m\u001b[32m/opt/miniconda3/lib/python3.12/site-packages/torch/utils/data/dataset.py:420\u001b[39m, in \u001b[36mSubset.__getitems__\u001b[39m\u001b[34m(self, indices)\u001b[39m\n\u001b[32m    418\u001b[39m     \u001b[38;5;28;01mreturn\u001b[39;00m \u001b[38;5;28mself\u001b[39m.dataset.__getitems__([\u001b[38;5;28mself\u001b[39m.indices[idx] \u001b[38;5;28;01mfor\u001b[39;00m idx \u001b[38;5;129;01min\u001b[39;00m indices])  \u001b[38;5;66;03m# type: ignore[attr-defined]\u001b[39;00m\n\u001b[32m    419\u001b[39m \u001b[38;5;28;01melse\u001b[39;00m:\n\u001b[32m--> \u001b[39m\u001b[32m420\u001b[39m     \u001b[38;5;28;01mreturn\u001b[39;00m [\u001b[38;5;28;43mself\u001b[39;49m\u001b[43m.\u001b[49m\u001b[43mdataset\u001b[49m\u001b[43m[\u001b[49m\u001b[38;5;28;43mself\u001b[39;49m\u001b[43m.\u001b[49m\u001b[43mindices\u001b[49m\u001b[43m[\u001b[49m\u001b[43midx\u001b[49m\u001b[43m]\u001b[49m\u001b[43m]\u001b[49m \u001b[38;5;28;01mfor\u001b[39;00m idx \u001b[38;5;129;01min\u001b[39;00m indices]\n",
      "\u001b[36mFile \u001b[39m\u001b[32m/opt/miniconda3/lib/python3.12/site-packages/torchvision/datasets/mnist.py:146\u001b[39m, in \u001b[36mMNIST.__getitem__\u001b[39m\u001b[34m(self, index)\u001b[39m\n\u001b[32m    143\u001b[39m img = Image.fromarray(img.numpy(), mode=\u001b[33m\"\u001b[39m\u001b[33mL\u001b[39m\u001b[33m\"\u001b[39m)\n\u001b[32m    145\u001b[39m \u001b[38;5;28;01mif\u001b[39;00m \u001b[38;5;28mself\u001b[39m.transform \u001b[38;5;129;01mis\u001b[39;00m \u001b[38;5;129;01mnot\u001b[39;00m \u001b[38;5;28;01mNone\u001b[39;00m:\n\u001b[32m--> \u001b[39m\u001b[32m146\u001b[39m     img = \u001b[38;5;28;43mself\u001b[39;49m\u001b[43m.\u001b[49m\u001b[43mtransform\u001b[49m\u001b[43m(\u001b[49m\u001b[43mimg\u001b[49m\u001b[43m)\u001b[49m\n\u001b[32m    148\u001b[39m \u001b[38;5;28;01mif\u001b[39;00m \u001b[38;5;28mself\u001b[39m.target_transform \u001b[38;5;129;01mis\u001b[39;00m \u001b[38;5;129;01mnot\u001b[39;00m \u001b[38;5;28;01mNone\u001b[39;00m:\n\u001b[32m    149\u001b[39m     target = \u001b[38;5;28mself\u001b[39m.target_transform(target)\n",
      "\u001b[36mFile \u001b[39m\u001b[32m/opt/miniconda3/lib/python3.12/site-packages/torchvision/transforms/transforms.py:95\u001b[39m, in \u001b[36mCompose.__call__\u001b[39m\u001b[34m(self, img)\u001b[39m\n\u001b[32m     93\u001b[39m \u001b[38;5;28;01mdef\u001b[39;00m\u001b[38;5;250m \u001b[39m\u001b[34m__call__\u001b[39m(\u001b[38;5;28mself\u001b[39m, img):\n\u001b[32m     94\u001b[39m     \u001b[38;5;28;01mfor\u001b[39;00m t \u001b[38;5;129;01min\u001b[39;00m \u001b[38;5;28mself\u001b[39m.transforms:\n\u001b[32m---> \u001b[39m\u001b[32m95\u001b[39m         img = \u001b[43mt\u001b[49m\u001b[43m(\u001b[49m\u001b[43mimg\u001b[49m\u001b[43m)\u001b[49m\n\u001b[32m     96\u001b[39m     \u001b[38;5;28;01mreturn\u001b[39;00m img\n",
      "\u001b[36mFile \u001b[39m\u001b[32m/opt/miniconda3/lib/python3.12/site-packages/torchvision/transforms/transforms.py:137\u001b[39m, in \u001b[36mToTensor.__call__\u001b[39m\u001b[34m(self, pic)\u001b[39m\n\u001b[32m    129\u001b[39m \u001b[38;5;28;01mdef\u001b[39;00m\u001b[38;5;250m \u001b[39m\u001b[34m__call__\u001b[39m(\u001b[38;5;28mself\u001b[39m, pic):\n\u001b[32m    130\u001b[39m \u001b[38;5;250m    \u001b[39m\u001b[33;03m\"\"\"\u001b[39;00m\n\u001b[32m    131\u001b[39m \u001b[33;03m    Args:\u001b[39;00m\n\u001b[32m    132\u001b[39m \u001b[33;03m        pic (PIL Image or numpy.ndarray): Image to be converted to tensor.\u001b[39;00m\n\u001b[32m   (...)\u001b[39m\u001b[32m    135\u001b[39m \u001b[33;03m        Tensor: Converted image.\u001b[39;00m\n\u001b[32m    136\u001b[39m \u001b[33;03m    \"\"\"\u001b[39;00m\n\u001b[32m--> \u001b[39m\u001b[32m137\u001b[39m     \u001b[38;5;28;01mreturn\u001b[39;00m \u001b[43mF\u001b[49m\u001b[43m.\u001b[49m\u001b[43mto_tensor\u001b[49m\u001b[43m(\u001b[49m\u001b[43mpic\u001b[49m\u001b[43m)\u001b[49m\n",
      "\u001b[36mFile \u001b[39m\u001b[32m/opt/miniconda3/lib/python3.12/site-packages/torchvision/transforms/functional.py:168\u001b[39m, in \u001b[36mto_tensor\u001b[39m\u001b[34m(pic)\u001b[39m\n\u001b[32m    166\u001b[39m \u001b[38;5;66;03m# handle PIL Image\u001b[39;00m\n\u001b[32m    167\u001b[39m mode_to_nptype = {\u001b[33m\"\u001b[39m\u001b[33mI\u001b[39m\u001b[33m\"\u001b[39m: np.int32, \u001b[33m\"\u001b[39m\u001b[33mI;16\u001b[39m\u001b[33m\"\u001b[39m \u001b[38;5;28;01mif\u001b[39;00m sys.byteorder == \u001b[33m\"\u001b[39m\u001b[33mlittle\u001b[39m\u001b[33m\"\u001b[39m \u001b[38;5;28;01melse\u001b[39;00m \u001b[33m\"\u001b[39m\u001b[33mI;16B\u001b[39m\u001b[33m\"\u001b[39m: np.int16, \u001b[33m\"\u001b[39m\u001b[33mF\u001b[39m\u001b[33m\"\u001b[39m: np.float32}\n\u001b[32m--> \u001b[39m\u001b[32m168\u001b[39m img = torch.from_numpy(\u001b[43mnp\u001b[49m\u001b[43m.\u001b[49m\u001b[43marray\u001b[49m\u001b[43m(\u001b[49m\u001b[43mpic\u001b[49m\u001b[43m,\u001b[49m\u001b[43m \u001b[49m\u001b[43mmode_to_nptype\u001b[49m\u001b[43m.\u001b[49m\u001b[43mget\u001b[49m\u001b[43m(\u001b[49m\u001b[43mpic\u001b[49m\u001b[43m.\u001b[49m\u001b[43mmode\u001b[49m\u001b[43m,\u001b[49m\u001b[43m \u001b[49m\u001b[43mnp\u001b[49m\u001b[43m.\u001b[49m\u001b[43muint8\u001b[49m\u001b[43m)\u001b[49m\u001b[43m,\u001b[49m\u001b[43m \u001b[49m\u001b[43mcopy\u001b[49m\u001b[43m=\u001b[49m\u001b[38;5;28;43;01mTrue\u001b[39;49;00m\u001b[43m)\u001b[49m)\n\u001b[32m    170\u001b[39m \u001b[38;5;28;01mif\u001b[39;00m pic.mode == \u001b[33m\"\u001b[39m\u001b[33m1\u001b[39m\u001b[33m\"\u001b[39m:\n\u001b[32m    171\u001b[39m     img = \u001b[32m255\u001b[39m * img\n",
      "\u001b[31mKeyboardInterrupt\u001b[39m: "
     ]
    }
   ],
   "source": [
    "# Store results\n",
    "results = []\n",
    "#classifier.fit(train_batches, val_batches, input_dim=784, output_dim=10)\n",
    "for params in grid:\n",
    "    print(f\"\\nTraining with params: {params}\")\n",
    "\n",
    "    # Initialize model\n",
    "    model = PyTorchClassifierWithTorchvision(\n",
    "        hidden_layers=params['hidden_layers'],\n",
    "        epochs=50,\n",
    "        lr=params['lr'],\n",
    "        optimizer=params['optimizer']\n",
    "    )\n",
    "    \n",
    "    # Train model\n",
    "    model.fit(train_batches, val_batches, input_dim=784, output_dim=10)\n",
    "    \n",
    "    # Evaluate model\n",
    "    test_acc = model.score(test_batches)\n",
    "    \n",
    "    # Save results\n",
    "    results.append({\n",
    "        'hidden_layers': params['hidden_layers'],\n",
    "        'learning_rate': params['lr'],\n",
    "        'optimizer': params['optimizer'],\n",
    "        'test_accuracy': test_acc\n",
    "    })\n",
    "\n",
    "# Print all results\n",
    "for r in results:\n",
    "    print(r)"
   ]
  }
 ],
 "metadata": {
  "kernelspec": {
   "display_name": "base",
   "language": "python",
   "name": "python3"
  },
  "language_info": {
   "codemirror_mode": {
    "name": "ipython",
    "version": 3
   },
   "file_extension": ".py",
   "mimetype": "text/x-python",
   "name": "python",
   "nbconvert_exporter": "python",
   "pygments_lexer": "ipython3",
   "version": "3.12.2"
  }
 },
 "nbformat": 4,
 "nbformat_minor": 2
}
